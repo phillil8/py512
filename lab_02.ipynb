{
  "cells": [
    {
      "cell_type": "markdown",
      "metadata": {
        "id": "view-in-github",
        "colab_type": "text"
      },
      "source": [
        "<a href=\"https://colab.research.google.com/github/phillil8/py512/blob/Initial/Copy_of_lab_02.ipynb\" target=\"_parent\"><img src=\"https://colab.research.google.com/assets/colab-badge.svg\" alt=\"Open In Colab\"/></a>"
      ]
    },
    {
      "cell_type": "markdown",
      "metadata": {
        "id": "SYCecA21bvQt"
      },
      "source": [
        "[![image](https://colab.research.google.com/assets/colab-badge.svg)](https://colab.research.google.com/github/giswqs/geog-312/blob/master/labs/lab_02.ipynb)\n",
        "[![image](https://binder.pangeo.io/badge_logo.svg)](https://gishub.org/geog312-pangeo)"
      ]
    },
    {
      "cell_type": "markdown",
      "metadata": {
        "id": "JC6x8SIvbvQv"
      },
      "source": [
        "**Firstname Lastname**"
      ]
    },
    {
      "cell_type": "code",
      "execution_count": null,
      "metadata": {
        "id": "RrWHHVaxbvQw",
        "colab": {
          "base_uri": "https://localhost:8080/"
        },
        "outputId": "221169f4-0bbb-4227-c815-bd8caad6e2f8"
      },
      "outputs": [
        {
          "output_type": "stream",
          "name": "stdout",
          "text": [
            "Submitted time: 2023-09-28 20:21:24.211783\n"
          ]
        }
      ],
      "source": [
        "from datetime import datetime\n",
        "\n",
        "now = datetime.now()\n",
        "print(f\"Submitted time: {now}\")"
      ]
    },
    {
      "cell_type": "markdown",
      "metadata": {
        "id": "bgiRSym4bvQx"
      },
      "source": [
        "## Question 1\n",
        "**Names:** Store the names of a few of your friends in a list called names. Print\n",
        "each person’s name by accessing each element in the list, one at a time."
      ]
    },
    {
      "cell_type": "code",
      "execution_count": null,
      "metadata": {
        "id": "1NoVBfKkbvQx",
        "colab": {
          "base_uri": "https://localhost:8080/"
        },
        "outputId": "fbf703a9-a94a-4b30-8556-ba42a307c258"
      },
      "outputs": [
        {
          "output_type": "stream",
          "name": "stdout",
          "text": [
            "Jraechel\n",
            "Jonah\n",
            "Jacob\n",
            "Jrobby\n",
            "Jean Louis\n",
            "Jordan\n",
            "Jasmine\n",
            "Jackson\n"
          ]
        }
      ],
      "source": [
        "Friends = [\"Jonah\", \"Jacob\", \"Jordan\", \"Jasmine\", \"Jrobby\", \"Jean Louis\", \"Jackson\", \"Jraechel\"]\n",
        "print(Friends[7])\n",
        "print(Friends[0])\n",
        "print(Friends[1])\n",
        "print(Friends[4])\n",
        "print(Friends[5])\n",
        "print(Friends[2])\n",
        "print(Friends[3])\n",
        "print(Friends[6])"
      ]
    },
    {
      "cell_type": "markdown",
      "metadata": {
        "id": "bi37tijqbvQx"
      },
      "source": [
        "## Question 2\n",
        "**Greetings:** Start with the list you used in Question 1, but instead of just printing each person’s name, print a message to them. The text of each message should be the same, but each message should be personalized with the person’s name."
      ]
    },
    {
      "cell_type": "code",
      "execution_count": null,
      "metadata": {
        "id": "qJIhA3uvbvQy",
        "colab": {
          "base_uri": "https://localhost:8080/"
        },
        "outputId": "3fadbe8c-733b-41f4-d6b8-6e9934c9a352"
      },
      "outputs": [
        {
          "output_type": "stream",
          "name": "stdout",
          "text": [
            "Jonah, we had to cut you off last night after you tried to eat a pint glass. Do better next time.\n",
            "Jacob, we had to cut you off last night after you tried to eat a pint glass. Do better next time.\n",
            "Jordan, we had to cut you off last night after you tried to eat a pint glass. Do better next time.\n",
            "Jasmine, we had to cut you off last night after you tried to eat a pint glass. Do better next time.\n",
            "Jrobby, we had to cut you off last night after you tried to eat a pint glass. Do better next time.\n",
            "Jean Louis, we had to cut you off last night after you tried to eat a pint glass. Do better next time.\n",
            "Jackson, we had to cut you off last night after you tried to eat a pint glass. Do better next time.\n",
            "Jraechel, we had to cut you off last night after you tried to eat a pint glass. Do better next time.\n"
          ]
        }
      ],
      "source": [
        "Friends = [\"Jonah\", \"Jacob\", \"Jordan\", \"Jasmine\", \"Jrobby\", \"Jean Louis\", \"Jackson\", \"Jraechel\"]\n",
        "for idiot in Friends:\n",
        "  print((idiot) + \", we had to cut you off last night after you tried to eat a pint glass. Do better next time.\")"
      ]
    },
    {
      "cell_type": "markdown",
      "metadata": {
        "id": "E9P0D8sobvQy"
      },
      "source": [
        "## Question 3\n",
        "**Your Own List:** Think of your favorite mode of transportation, such as a motorcycle or a car, and make a list that stores several examples. Use your list to print a series of statements about these items, such as “I would like to own a Honda motorcycle.”"
      ]
    },
    {
      "cell_type": "code",
      "execution_count": null,
      "metadata": {
        "id": "xOqUj7kVbvQy",
        "colab": {
          "base_uri": "https://localhost:8080/"
        },
        "outputId": "7710b08a-c06c-4e21-b9a6-5ee802cead8a"
      },
      "outputs": [
        {
          "output_type": "stream",
          "name": "stdout",
          "text": [
            "I like to mountain bike on the sweet loamy single track\n"
          ]
        }
      ],
      "source": [
        "import random                                                     #import random for pulling random list value\n",
        "Transport = [\"ebike\", \"mountain bike\", \"gravel bike\", \"chainsaw with wheels\", \"trendy toyota truck\", \"kayak\"]\n",
        "Surface = [\"river\", \"road\", \"rock face\", \"wet pavement\", \"cliff face\", \"sweet loamy single track\"]\n",
        "random_transport = random.choice(Transport)                       #pulls random value from list\n",
        "random_surface = random.choice(Surface)\n",
        "Message = f\"I like to {random_transport} on the {random_surface}\" #f is formatted strings and {} are placeholders for random variables which is the easiest way I figured out how to do this.\n",
        "print(Message)                                                    #Run the code multiple times to get 100% accurate results of things I do.\n",
        "\n"
      ]
    },
    {
      "cell_type": "markdown",
      "metadata": {
        "id": "zreCi0ptbvQy"
      },
      "source": [
        "## Question 4\n",
        "**Guest List:** If you could invite anyone, living or deceased, to dinner, who would you invite? Make a list that includes at least three people you’d like to invite to dinner. Then use your list to print a message to each person, inviting them to dinner."
      ]
    },
    {
      "cell_type": "code",
      "execution_count": null,
      "metadata": {
        "id": "r2ThE-a0bvQz",
        "colab": {
          "base_uri": "https://localhost:8080/"
        },
        "outputId": "6cbdc378-eeb5-4dcc-f1ac-7b47889e3a88"
      },
      "outputs": [
        {
          "output_type": "stream",
          "name": "stdout",
          "text": [
            "Hello The Hamburgler! I would love to share a meal with you and discuss your leading business idea to make me rich.\n"
          ]
        }
      ],
      "source": [
        "import random\n",
        "SpecialPpl = [\"The Hamburgler\", \"The Great Gonzo\", \"Eric Idle\", \"John Cleese\"] #Totally real people\n",
        "CoolPpl = random.choice(SpecialPpl)                                            #Make variable for random pull from list\n",
        "Invite = f\"Hello {CoolPpl}! I would love to share a meal with you and discuss your leading business idea to make me rich.\" #create variable for message MUST PUT f BEFORE QUOTES otherwise its not functional\n",
        "print(Invite)\n",
        "\n"
      ]
    },
    {
      "cell_type": "markdown",
      "metadata": {
        "id": "NUR7fQ1EbvQz"
      },
      "source": [
        "## Question 5\n",
        "**Changing Guest List:** You just heard that one of your guests can’t make the dinner, so you need to send out a new set of invitations. You’ll have to think of someone else to invite."
      ]
    },
    {
      "cell_type": "markdown",
      "metadata": {
        "id": "Yu7rlUqgbvQz"
      },
      "source": [
        "Start with your program from Question 4. Add a print() call at the end of your program stating the name of the guest who can’t make it."
      ]
    },
    {
      "cell_type": "code",
      "execution_count": null,
      "metadata": {
        "id": "0n4_1kkYbvQz",
        "colab": {
          "base_uri": "https://localhost:8080/"
        },
        "outputId": "7e124c50-2c7c-433c-cc0d-d73eadf20908"
      },
      "outputs": [
        {
          "output_type": "stream",
          "name": "stdout",
          "text": [
            "Hello The Great Gonzo! I would love to share a meal with you and discuss your leading business idea to make me rich.\n",
            "Anticipating rejection from: The Great Gonzo\n"
          ]
        }
      ],
      "source": [
        "import random\n",
        "SpecialPpl = [\"The Hamburgler\", \"The Great Gonzo\", \"Eric Idle\", \"John Cleese\"] #Totally real people\n",
        "CoolPpl = random.choice(SpecialPpl)                                            #Make variable for random pull from list\n",
        "Invite = f\"Hello {CoolPpl}! I would love to share a meal with you and discuss your leading business idea to make me rich.\" #create variable for message MUST PUT f BEFORE QUOTES otherwise its not functional\n",
        "print(Invite)\n",
        "print(f\"Anticipating rejection from: {CoolPpl}\")\n",
        "\n"
      ]
    },
    {
      "cell_type": "markdown",
      "metadata": {
        "id": "8nstCd10bvQz"
      },
      "source": [
        "Modify your list, replacing the name of the guest who can’t make it with the name of the new person you are inviting."
      ]
    },
    {
      "cell_type": "code",
      "execution_count": null,
      "metadata": {
        "id": "rpS0-HigbvQz",
        "colab": {
          "base_uri": "https://localhost:8080/"
        },
        "outputId": "515e8c25-ecbe-4c96-e838-995890a55ff1"
      },
      "outputs": [
        {
          "output_type": "stream",
          "name": "stdout",
          "text": [
            "Hello The Hamburgler! I would love to share a meal with you and discuss your leading business idea to make me rich.\n",
            "Hello The Great Gonzo! I would love to share a meal with you and discuss your leading business idea to make me rich.\n",
            "Hello Eric Idle! I hope your priorities were as well thought out as your excuses.🙄 #NoShow\n",
            "Hello John Cleese! I would love to share a meal with you and discuss your leading business idea to make me rich.\n"
          ]
        }
      ],
      "source": [
        "import random\n",
        "SpecialPpl = [\"The Hamburgler\", \"The Great Gonzo\", \"Eric Idle\", \"John Cleese\"]  #Ppl list\n",
        "CoolPpl = random.choice(SpecialPpl)                                             #Random person from Ppl list\n",
        "Rejection = f\"Hello {CoolPpl}! I hope your priorities were as well thought out as your excuses.🙄 #NoShow\" # defines passive agressive rejection response to guest who cant make it\n",
        "for x in SpecialPpl:                                                            #For a value in Special Ppl\n",
        "  if x == CoolPpl:                                                              # when that value is CoolPpl\n",
        "    print(Rejection)                                                            #Send immature note.\n",
        "  else:                                                                         #Otherwise send invites to remaining members of list\n",
        "    print(f\"Hello {x}! I would love to share a meal with you and discuss your leading business idea to make me rich.\")                                                               #"
      ]
    },
    {
      "cell_type": "markdown",
      "metadata": {
        "id": "TWs7AwTWbvQz"
      },
      "source": [
        "Print a second set of invitation messages, one for each person who is still in your list."
      ]
    },
    {
      "cell_type": "code",
      "execution_count": null,
      "metadata": {
        "id": "Kgtqrg6VbvQ0",
        "colab": {
          "base_uri": "https://localhost:8080/"
        },
        "outputId": "73b20e7f-3e1c-4e0a-b5f4-405a65c8bc50"
      },
      "outputs": [
        {
          "output_type": "stream",
          "name": "stdout",
          "text": [
            "Hello The Great Gonzo! I would love to share a meal with you and discuss your leading business idea to make me rich.\n",
            "Hello Eric Idle! I would love to share a meal with you and discuss your leading business idea to make me rich.\n",
            "Hello John Cleese! I would love to share a meal with you and discuss your leading business idea to make me rich.\n"
          ]
        }
      ],
      "source": [
        "import random\n",
        "SpecialPpl = [\"The Hamburgler\", \"The Great Gonzo\", \"Eric Idle\", \"John Cleese\"]  #Ppl list\n",
        "CoolPpl = random.choice(SpecialPpl)                                             #Random person from Ppl list\n",
        "for x in SpecialPpl:                                                            #For a value in Special Ppl\n",
        "  if x == CoolPpl:                                                              # when that value is CoolPpl\n",
        "      pass                                                                      #\n",
        "  else:                                                                         #Otherwise send invites to remaining members of list\n",
        "    print(f\"Hello {x}! I would love to share a meal with you and discuss your leading business idea to make me rich.\")\n"
      ]
    },
    {
      "cell_type": "markdown",
      "metadata": {
        "id": "PYppudQcbvQ0"
      },
      "source": [
        "## Question 6\n",
        "**More Guests:** You just found a bigger dinner table, so now more space is available. Think of three more guests to invite to dinner."
      ]
    },
    {
      "cell_type": "markdown",
      "metadata": {
        "id": "HqrPIyl8bvQ0"
      },
      "source": [
        "Start with your program from Question 4 or Question 5. Add a print() call to the end of your program informing people that you found a bigger dinner table."
      ]
    },
    {
      "cell_type": "code",
      "execution_count": null,
      "metadata": {
        "id": "00A37wkvbvQ0",
        "colab": {
          "base_uri": "https://localhost:8080/"
        },
        "outputId": "f9c2adf7-e75a-4ca8-bb81-8be9ec776ee1"
      },
      "outputs": [
        {
          "output_type": "stream",
          "name": "stdout",
          "text": [
            "Hello The Hamburgler! I hope your priorities were as well thought out as your excuses.🙄 #NoShow\n",
            "Hello The Great Gonzo! I would love to share a meal with you and discuss your leading business idea to make me rich.\n",
            "Hello Eric Idle! I would love to share a meal with you and discuss your leading business idea to make me rich.\n",
            "Hello John Cleese! I would love to share a meal with you and discuss your leading business idea to make me rich.\n",
            "I just found another table under my table and thusly more table is avialable\n"
          ]
        }
      ],
      "source": [
        "import random\n",
        "SpecialPpl = [\"The Hamburgler\", \"The Great Gonzo\", \"Eric Idle\", \"John Cleese\"]  #Ppl list\n",
        "CoolPpl = random.choice(SpecialPpl)                                             #Random person from Ppl list\n",
        "Rejection = f\"Hello {CoolPpl}! I hope your priorities were as well thought out as your excuses.🙄 #NoShow\" # defines passive agressive rejection response to guest who cant make it\n",
        "for x in SpecialPpl:                                                            #For a value in Special Ppl\n",
        "  if x == CoolPpl:                                                              # when that value is CoolPpl\n",
        "    print(Rejection)                                                            #Send immature note.\n",
        "  else:                                                                         #Otherwise send invites to remaining members of list\n",
        "    print(f\"Hello {x}! I would love to share a meal with you and discuss your leading business idea to make me rich.\")\n",
        "print(\"I just found another table under my table and thusly more table is avialable.\")"
      ]
    },
    {
      "cell_type": "markdown",
      "metadata": {
        "id": "Fkn_U4dQbvQ0"
      },
      "source": [
        "Use insert() to add one new guest to the beginning of your list."
      ]
    },
    {
      "cell_type": "code",
      "execution_count": null,
      "metadata": {
        "id": "5zBLdHc8bvQ0",
        "colab": {
          "base_uri": "https://localhost:8080/"
        },
        "outputId": "e4969ab4-6a81-4cf5-bb98-a76f7456a758"
      },
      "outputs": [
        {
          "output_type": "stream",
          "name": "stdout",
          "text": [
            "Hello The Hamburgler! I would love to share a meal with you and discuss your leading business idea to make me rich.\n",
            "Hello The Great Gonzo! I would love to share a meal with you and discuss your leading business idea to make me rich.\n",
            "Hello Eric Idle! I would love to share a meal with you and discuss your leading business idea to make me rich.\n",
            "Hello John Cleese! I hope your priorities were as well thought out as your excuses.🙄 #NoShow\n",
            "I just found another table under my table and thusly more table is avialable.\n",
            "['Grimace', 'The Hamburgler', 'The Great Gonzo', 'Eric Idle', 'John Cleese']\n"
          ]
        }
      ],
      "source": [
        "import random\n",
        "SpecialPpl = [\"The Hamburgler\", \"The Great Gonzo\", \"Eric Idle\", \"John Cleese\"]  #Ppl list\n",
        "CoolPpl = random.choice(SpecialPpl)                                             #Random person from Ppl list\n",
        "Rejection = f\"Hello {CoolPpl}! I hope your priorities were as well thought out as your excuses.🙄 #NoShow\" # defines passive agressive rejection response to guest who cant make it\n",
        "for x in SpecialPpl:                                                            #For a value in Special Ppl\n",
        "  if x == CoolPpl:                                                              # when that value is CoolPpl\n",
        "    print(Rejection)                                                            #Send immature note.\n",
        "  else:                                                                         #Otherwise send invites to remaining members of list\n",
        "    print(f\"Hello {x}! I would love to share a meal with you and discuss your leading business idea to make me rich.\")\n",
        "print(\"I just found another table under my table and thusly more table is avialable.\")\n",
        "SpecialPpl.insert(0, \"Grimace\")\n",
        "print(SpecialPpl)"
      ]
    },
    {
      "cell_type": "markdown",
      "metadata": {
        "id": "IavTbC0tbvQ0"
      },
      "source": [
        "Use insert() to add one new guest to the middle of your list."
      ]
    },
    {
      "cell_type": "code",
      "execution_count": null,
      "metadata": {
        "id": "PgZYyM4ObvQ0",
        "colab": {
          "base_uri": "https://localhost:8080/"
        },
        "outputId": "0bd1316c-85b8-4fbd-8f5e-fc35ee0e3ed3"
      },
      "outputs": [
        {
          "output_type": "stream",
          "name": "stdout",
          "text": [
            "Hello The Hamburgler! I hope your priorities were as well thought out as your excuses.🙄 #NoShow\n",
            "Hello The Great Gonzo! I would love to share a meal with you and discuss your leading business idea to make me rich.\n",
            "Hello Eric Idle! I would love to share a meal with you and discuss your leading business idea to make me rich.\n",
            "Hello John Cleese! I would love to share a meal with you and discuss your leading business idea to make me rich.\n",
            "I just found another table under my table and thusly more table is avialable.\n",
            "['Grimace', 'The Hamburgler', 'Mayor McCheese', 'The Great Gonzo', 'Eric Idle', 'John Cleese']\n"
          ]
        }
      ],
      "source": [
        "import random\n",
        "SpecialPpl = [\"The Hamburgler\", \"The Great Gonzo\", \"Eric Idle\", \"John Cleese\"]  #Ppl list\n",
        "CoolPpl = random.choice(SpecialPpl)                                             #Random person from Ppl list\n",
        "Rejection = f\"Hello {CoolPpl}! I hope your priorities were as well thought out as your excuses.🙄 #NoShow\" # defines passive agressive rejection response to guest who cant make it\n",
        "for x in SpecialPpl:                                                            #For a value in Special Ppl\n",
        "  if x == CoolPpl:                                                              # when that value is CoolPpl\n",
        "    print(Rejection)                                                            #Send immature note.\n",
        "  else:                                                                         #Otherwise send invites to remaining members of list\n",
        "    print(f\"Hello {x}! I would love to share a meal with you and discuss your leading business idea to make me rich.\")\n",
        "print(\"I just found another table under my table and thusly more table is avialable.\")\n",
        "SpecialPpl.insert(0, \"Grimace\")\n",
        "SpecialPpl.insert(2, \"Mayor McCheese\")\n",
        "print(SpecialPpl)"
      ]
    },
    {
      "cell_type": "markdown",
      "metadata": {
        "id": "nn_f6fuIbvQ0"
      },
      "source": [
        "Use append() to add one new guest to the end of your list."
      ]
    },
    {
      "cell_type": "code",
      "execution_count": null,
      "metadata": {
        "id": "h8kco-BLbvQ0",
        "colab": {
          "base_uri": "https://localhost:8080/"
        },
        "outputId": "51861f24-6137-4d71-a818-d9072276eff2"
      },
      "outputs": [
        {
          "output_type": "stream",
          "name": "stdout",
          "text": [
            "Hello The Hamburgler! I would love to share a meal with you and discuss your leading business idea to make me rich.\n",
            "Hello The Great Gonzo! I hope your priorities were as well thought out as your excuses.🙄 #NoShow\n",
            "Hello Eric Idle! I would love to share a meal with you and discuss your leading business idea to make me rich.\n",
            "Hello John Cleese! I would love to share a meal with you and discuss your leading business idea to make me rich.\n",
            "I just found another table under my table and thusly more table is avialable.\n",
            "['Grimace', 'The Hamburgler', 'Mayor McCheese', 'The Great Gonzo', 'Eric Idle', 'John Cleese', 'Ronald']\n"
          ]
        }
      ],
      "source": [
        "import random\n",
        "SpecialPpl = [\"The Hamburgler\", \"The Great Gonzo\", \"Eric Idle\", \"John Cleese\"]  #Ppl list\n",
        "CoolPpl = random.choice(SpecialPpl)                                             #Random person from Ppl list\n",
        "Rejection = f\"Hello {CoolPpl}! I hope your priorities were as well thought out as your excuses.🙄 #NoShow\" # defines passive agressive rejection response to guest who cant make it\n",
        "for x in SpecialPpl:                                                            #For a value in Special Ppl\n",
        "  if x == CoolPpl:                                                              # when that value is CoolPpl\n",
        "    print(Rejection)                                                            #Send immature note.\n",
        "  else:                                                                         #Otherwise send invites to remaining members of list\n",
        "    print(f\"Hello {x}! I would love to share a meal with you and discuss your leading business idea to make me rich.\")\n",
        "print(\"I just found another table under my table and thusly more table is avialable.\")\n",
        "SpecialPpl.insert(0, \"Grimace\")\n",
        "SpecialPpl.insert(2, \"Mayor McCheese\")\n",
        "SpecialPpl.append(\"Ronald\")\n",
        "print(SpecialPpl)"
      ]
    },
    {
      "cell_type": "markdown",
      "metadata": {
        "id": "yu4Av1aWbvQ0"
      },
      "source": [
        "Print a new set of invitation messages, one for each person in your list."
      ]
    },
    {
      "cell_type": "code",
      "execution_count": null,
      "metadata": {
        "id": "9mIqXqq-bvQ0",
        "colab": {
          "base_uri": "https://localhost:8080/"
        },
        "outputId": "d173cb29-e862-4937-cd81-0da56272320e"
      },
      "outputs": [
        {
          "output_type": "stream",
          "name": "stdout",
          "text": [
            "Hello Grimace! I would love to share a meal with you and discuss your leading business idea to make me rich.\n",
            "Hello The Hamburgler! I would love to share a meal with you and discuss your leading business idea to make me rich.\n",
            "Hello Mayor McCheese! I would love to share a meal with you and discuss your leading business idea to make me rich.\n",
            "Hello The Great Gonzo! I would love to share a meal with you and discuss your leading business idea to make me rich.\n",
            "Hello Eric Idle! I would love to share a meal with you and discuss your leading business idea to make me rich.\n",
            "Hello John Cleese! I hope your priorities were as well thought out as your excuses.🙄 #NoShow\n",
            "Hello Ronald! I would love to share a meal with you and discuss your leading business idea to make me rich.\n"
          ]
        }
      ],
      "source": [
        "import random\n",
        "SpecialPpl = [\"The Hamburgler\", \"The Great Gonzo\", \"Eric Idle\", \"John Cleese\"]  #Ppl list\n",
        "CoolPpl = random.choice(SpecialPpl)                                             #Random person from Ppl list\n",
        "Rejection = f\"Hello {CoolPpl}! I hope your priorities were as well thought out as your excuses.🙄 #NoShow\" # defines passive agressive rejection response to guest who cant make it\n",
        "SpecialPpl.insert(0, \"Grimace\")\n",
        "SpecialPpl.insert(2, \"Mayor McCheese\")\n",
        "SpecialPpl.append(\"Ronald\")\n",
        "for x in SpecialPpl:                                                            #For a value in Special Ppl\n",
        "  if x == CoolPpl:                                                              # when that value is CoolPpl\n",
        "    print(Rejection)                                                            #Send immature note.\n",
        "  else:                                                                         #Otherwise send invites to remaining members of list\n",
        "    print(f\"Hello {x}! I would love to share a meal with you and discuss your leading business idea to make me rich.\")"
      ]
    },
    {
      "cell_type": "markdown",
      "metadata": {
        "id": "Oh-VocsIbvQ1"
      },
      "source": [
        "## Question 7\n",
        "**Shrinking Guest List:** You just found out that your new dinner table won’t arrive in time for the dinner, and you have space for only two guests.\n",
        "\n",
        "Start with your program from Question 6. Add a new line that prints a message saying that you can invite only two people for dinner."
      ]
    },
    {
      "cell_type": "code",
      "execution_count": null,
      "metadata": {
        "id": "tECq8LOFbvQ1",
        "colab": {
          "base_uri": "https://localhost:8080/"
        },
        "outputId": "fbcd994b-b899-497d-8d88-f38559aa0175"
      },
      "outputs": [
        {
          "output_type": "stream",
          "name": "stdout",
          "text": [
            "Hello Grimace! I would love to share a meal with you and discuss your leading business idea to make me rich.\n",
            "Hello The Hamburgler! I would love to share a meal with you and discuss your leading business idea to make me rich.\n",
            "Hello Mayor McCheese! I would love to share a meal with you and discuss your leading business idea to make me rich.\n",
            "Hello The Great Gonzo! I would love to share a meal with you and discuss your leading business idea to make me rich.\n",
            "Hello Eric Idle! I would love to share a meal with you and discuss your leading business idea to make me rich.\n",
            "Hello John Cleese! I would love to share a meal with you and discuss your leading business idea to make me rich.\n",
            "SAP Ronald you're extra special! I would love to share a meal with you and discuss your leading business idea to make me rich.\n",
            "I just found another table under my table and thusly, more table is avialable.\n",
            "I was totally wrong I actually just lost like 1.5 tables so goodbye to everyone but two of you.\n"
          ]
        }
      ],
      "source": [
        "import random\n",
        "SpecialPpl = [\"Grimace\", \"The Hamburgler\",\"Mayor McCheese\", \"The Great Gonzo\", \"Eric Idle\", \"John Cleese\", \"Ronald\"]  #Ppl list\n",
        "CoolPpl = random.choice(SpecialPpl)                                             #Random person from Ppl list\n",
        "for x in SpecialPpl:                                                            #For a value in Special Ppl\n",
        "  if x == CoolPpl:                                                              # when that value is CoolPpl\n",
        "    print(f\"SAP {x} you're extra special! I would love to share a meal with you and discuss your leading business idea to make me rich.\")                                                            #Send immature note.\n",
        "  else:                                                                         #Otherwise send invites to remaining members of list\n",
        "    print(f\"Hello {x}! I would love to share a meal with you and discuss your leading business idea to make me rich.\")\n",
        "print(\"I just found another table under my table and thusly, more table is avialable.\")\n",
        "print(\"I was totally wrong I actually just lost like 1.5 tables so goodbye to everyone but two of you.\")"
      ]
    },
    {
      "cell_type": "markdown",
      "metadata": {
        "id": "f-2a0tdybvQ1"
      },
      "source": [
        "Use pop() to remove guests from your list one at a time until only two names remain in your list. Each time you pop a name from your list, print a message to that person letting them know you’re sorry you can’t invite them to dinner."
      ]
    },
    {
      "cell_type": "code",
      "execution_count": null,
      "metadata": {
        "id": "ZyKsaThhbvQ1",
        "colab": {
          "base_uri": "https://localhost:8080/"
        },
        "outputId": "cf95216a-1c1b-4781-9255-305ba5e01ada"
      },
      "outputs": [
        {
          "output_type": "stream",
          "name": "stdout",
          "text": [
            "Hey Grimace I broke youre portion of table so you can't come anymore\n",
            "['The Hamburgler', 'Mayor McCheese', 'The Great Gonzo', 'Eric Idle', 'John Cleese', 'Ronald']\n",
            "Hey The Hamburgler I broke youre portion of table so you can't come anymore\n",
            "['Mayor McCheese', 'The Great Gonzo', 'Eric Idle', 'John Cleese', 'Ronald']\n",
            "Hey Mayor McCheese I broke youre portion of table so you can't come anymore\n",
            "['The Great Gonzo', 'Eric Idle', 'John Cleese', 'Ronald']\n",
            "Hey The Great Gonzo I broke youre portion of table so you can't come anymore\n",
            "['Eric Idle', 'John Cleese', 'Ronald']\n",
            "Hey Eric Idle I broke youre portion of table so you can't come anymore\n",
            "['John Cleese', 'Ronald']\n"
          ]
        }
      ],
      "source": [
        "import random\n",
        "SpecialPpl = [\"Grimace\", \"The Hamburgler\",\"Mayor McCheese\", \"The Great Gonzo\", \"Eric Idle\", \"John Cleese\", \"Ronald\"]\n",
        "\n",
        "while len(SpecialPpl) > 2:\n",
        "  if SpecialPpl:\n",
        "    print(f\"Hey {SpecialPpl[0]} I broke youre portion of table so you can't come anymore\")\n",
        "    SpecialPpl.pop(0)\n",
        "  else:\n",
        "    print(\"No value\")\n",
        "  print(SpecialPpl)\n",
        "\n"
      ]
    },
    {
      "cell_type": "markdown",
      "metadata": {
        "id": "7Fv5cqJabvQ1"
      },
      "source": [
        "Print a message to each of the two people still on your list, letting them know they’re still invited."
      ]
    },
    {
      "cell_type": "code",
      "execution_count": null,
      "metadata": {
        "id": "V4gSGsaPbvQ1",
        "colab": {
          "base_uri": "https://localhost:8080/"
        },
        "outputId": "39870541-3342-4c7f-ad35-6b87abc92d7b"
      },
      "outputs": [
        {
          "output_type": "stream",
          "name": "stdout",
          "text": [
            "Hey Grimace I broke youre portion of table so you can't come anymore\n",
            "Hey The Hamburgler I broke youre portion of table so you can't come anymore\n",
            "Hey Mayor McCheese I broke youre portion of table so you can't come anymore\n",
            "Hey The Great Gonzo I broke youre portion of table so you can't come anymore\n",
            "Hey Eric Idle I broke youre portion of table so you can't come anymore\n",
            "['John Cleese', 'Ronald']\n",
            "Yo John Cleese and Ronald, you can still come if you bring your own table.\n"
          ]
        }
      ],
      "source": [
        "import random\n",
        "SpecialPpl = [\"Grimace\", \"The Hamburgler\",\"Mayor McCheese\", \"The Great Gonzo\", \"Eric Idle\", \"John Cleese\", \"Ronald\"]\n",
        "\n",
        "while len(SpecialPpl) > 2:\n",
        "  if SpecialPpl:\n",
        "    print(f\"Hey {SpecialPpl[0]} I broke youre portion of table so you can't come anymore\")\n",
        "    SpecialPpl.pop(0)\n",
        "  else:\n",
        "    print(\"No Value\")\n",
        "print(SpecialPpl)\n",
        "if len(SpecialPpl) == 2:\n",
        "  print(f\"Yo {SpecialPpl[0]} and {SpecialPpl[1]}, you can still come if you bring your own table.\")\n"
      ]
    },
    {
      "cell_type": "markdown",
      "metadata": {
        "id": "Q5Z1NtY3bvQ1"
      },
      "source": [
        "Use del to remove the last two names from your list, so you have an empty list. Print your list to make sure you actually have an empty list at the end of your program."
      ]
    },
    {
      "cell_type": "code",
      "execution_count": null,
      "metadata": {
        "id": "KBImay1wbvQ1",
        "colab": {
          "base_uri": "https://localhost:8080/"
        },
        "outputId": "3b5fc24f-0d8f-4835-ed01-2ea57de9bde4"
      },
      "outputs": [
        {
          "output_type": "stream",
          "name": "stdout",
          "text": [
            "Hey Grimace I broke youre portion of table so you can't come anymore\n",
            "Hey The Hamburgler I broke youre portion of table so you can't come anymore\n",
            "Hey Mayor McCheese I broke youre portion of table so you can't come anymore\n",
            "Hey The Great Gonzo I broke youre portion of table so you can't come anymore\n",
            "Hey Eric Idle I broke youre portion of table so you can't come anymore\n",
            "['John Cleese', 'Ronald']\n",
            "Yo John Cleese and Ronald, you can still come if you bring your own table.\n",
            "[]\n"
          ]
        }
      ],
      "source": [
        "import random\n",
        "SpecialPpl = [\"Grimace\", \"The Hamburgler\",\"Mayor McCheese\", \"The Great Gonzo\", \"Eric Idle\", \"John Cleese\", \"Ronald\"]\n",
        "\n",
        "while len(SpecialPpl) > 2:\n",
        "  if SpecialPpl:\n",
        "    print(f\"Hey {SpecialPpl[0]} I broke youre portion of table so you can't come anymore\")\n",
        "    SpecialPpl.pop(0)\n",
        "  else:\n",
        "    print(\"No Value\")\n",
        "print(SpecialPpl)\n",
        "if len(SpecialPpl) == 2:\n",
        "  print(f\"Yo {SpecialPpl[0]} and {SpecialPpl[1]}, you can still come if you bring your own table.\")\n",
        "\n",
        "del SpecialPpl[-2:]\n",
        "print(SpecialPpl)"
      ]
    },
    {
      "cell_type": "markdown",
      "metadata": {
        "id": "TXmrAnU7bvQ1"
      },
      "source": [
        "## Question 8\n",
        "**Seeing the World:** Think of at least five places in the world you’d like to visit.\n",
        "\n",
        "Store the locations in a list. Make sure the list is not in alphabetical order."
      ]
    },
    {
      "cell_type": "code",
      "execution_count": null,
      "metadata": {
        "id": "iCde8ZiMbvQ1"
      },
      "outputs": [],
      "source": [
        "Places = [\"Norway\", \"Canadian Rockies\", \"Japan\", \"Argentina\", \"Columbia\"]"
      ]
    },
    {
      "cell_type": "markdown",
      "metadata": {
        "id": "oZO7fkj6bvQ5"
      },
      "source": [
        "Print your list in its original order. Don’t worry about printing the list neatly, just print it as a raw Python list."
      ]
    },
    {
      "cell_type": "code",
      "execution_count": null,
      "metadata": {
        "id": "eWuUq2R4bvQ5",
        "colab": {
          "base_uri": "https://localhost:8080/"
        },
        "outputId": "45bb3abd-4c96-44e3-854d-b1e973d2ca15"
      },
      "outputs": [
        {
          "output_type": "stream",
          "name": "stdout",
          "text": [
            "['Norway', 'Canadian Rockies', 'Japan', 'Argentina', 'Columbia']\n"
          ]
        }
      ],
      "source": [
        "Places = [\"Norway\", \"Canadian Rockies\", \"Japan\", \"Argentina\", \"Columbia\"]\n",
        "print(Places)"
      ]
    },
    {
      "cell_type": "markdown",
      "metadata": {
        "id": "9grqFeJjbvQ5"
      },
      "source": [
        "Use sorted() to print your list in alphabetical order without modifying the actual list."
      ]
    },
    {
      "cell_type": "code",
      "execution_count": null,
      "metadata": {
        "id": "RFXZrHt6bvQ5",
        "colab": {
          "base_uri": "https://localhost:8080/"
        },
        "outputId": "69a92501-1c9d-42aa-e75e-47ba75c6aa78"
      },
      "outputs": [
        {
          "output_type": "stream",
          "name": "stdout",
          "text": [
            "['Norway', 'Canadian Rockies', 'Japan', 'Argentina', 'Columbia']\n",
            "['Argentina', 'Canadian Rockies', 'Columbia', 'Japan', 'Norway']\n"
          ]
        }
      ],
      "source": [
        "Places = [\"Norway\", \"Canadian Rockies\", \"Japan\", \"Argentina\", \"Columbia\"]\n",
        "print(Places)\n",
        "SortedPlaces = sorted(Places)\n",
        "print(SortedPlaces)"
      ]
    },
    {
      "cell_type": "markdown",
      "metadata": {
        "id": "7ml5kqrCbvQ5"
      },
      "source": [
        "Show that your list is still in its original order by printing it."
      ]
    },
    {
      "cell_type": "code",
      "execution_count": null,
      "metadata": {
        "id": "y70ABuf6bvQ5",
        "colab": {
          "base_uri": "https://localhost:8080/"
        },
        "outputId": "10a4beb7-863e-4213-c491-e56a5d0f4c23"
      },
      "outputs": [
        {
          "output_type": "stream",
          "name": "stdout",
          "text": [
            "['Norway', 'Canadian Rockies', 'Japan', 'Argentina', 'Columbia']\n",
            "['Argentina', 'Canadian Rockies', 'Columbia', 'Japan', 'Norway']\n",
            "['Norway', 'Canadian Rockies', 'Japan', 'Argentina', 'Columbia']\n"
          ]
        }
      ],
      "source": [
        "Places = [\"Norway\", \"Canadian Rockies\", \"Japan\", \"Argentina\", \"Columbia\"]\n",
        "print(Places)\n",
        "SortedPlaces = sorted(Places)\n",
        "print(SortedPlaces)\n",
        "print(Places)"
      ]
    },
    {
      "cell_type": "markdown",
      "metadata": {
        "id": "u6mHt3FNbvQ5"
      },
      "source": [
        "Use sorted() to print your list in reverse alphabetical order without changing the order of the original list."
      ]
    },
    {
      "cell_type": "code",
      "execution_count": null,
      "metadata": {
        "id": "ww7I8RU7bvQ5",
        "colab": {
          "base_uri": "https://localhost:8080/"
        },
        "outputId": "c94289fe-6299-4abd-815d-35a9d10a3025"
      },
      "outputs": [
        {
          "output_type": "stream",
          "name": "stdout",
          "text": [
            "['Norway', 'Canadian Rockies', 'Japan', 'Argentina', 'Columbia']\n",
            "['Norway', 'Japan', 'Columbia', 'Canadian Rockies', 'Argentina']\n"
          ]
        }
      ],
      "source": [
        "Places = [\"Norway\", \"Canadian Rockies\", \"Japan\", \"Argentina\", \"Columbia\"]\n",
        "print(Places)\n",
        "SortedPlaces = sorted(Places, reverse=True)\n",
        "print(SortedPlaces)\n"
      ]
    },
    {
      "cell_type": "markdown",
      "metadata": {
        "id": "hgeClyDWbvQ5"
      },
      "source": [
        "Show that your list is still in its original order by printing it again."
      ]
    },
    {
      "cell_type": "code",
      "execution_count": null,
      "metadata": {
        "id": "fyKxWBmhbvQ6",
        "colab": {
          "base_uri": "https://localhost:8080/"
        },
        "outputId": "e4b9e148-8679-41e7-ae07-7ed194621293"
      },
      "outputs": [
        {
          "output_type": "stream",
          "name": "stdout",
          "text": [
            "['Norway', 'Canadian Rockies', 'Japan', 'Argentina', 'Columbia']\n",
            "['Norway', 'Japan', 'Columbia', 'Canadian Rockies', 'Argentina']\n",
            "['Norway', 'Canadian Rockies', 'Japan', 'Argentina', 'Columbia']\n"
          ]
        }
      ],
      "source": [
        "Places = [\"Norway\", \"Canadian Rockies\", \"Japan\", \"Argentina\", \"Columbia\"]\n",
        "print(Places)\n",
        "SortedPlaces = sorted(Places, reverse=True)\n",
        "print(SortedPlaces)\n",
        "print(Places)"
      ]
    },
    {
      "cell_type": "markdown",
      "metadata": {
        "id": "A5Y1ftNNbvQ6"
      },
      "source": [
        "Use reverse() to change the order of your list. Print the list to show that its order has changed."
      ]
    },
    {
      "cell_type": "code",
      "execution_count": null,
      "metadata": {
        "id": "kR6_mf65bvQ6",
        "colab": {
          "base_uri": "https://localhost:8080/"
        },
        "outputId": "4e434f87-976b-488e-fff7-82c426218be4"
      },
      "outputs": [
        {
          "output_type": "stream",
          "name": "stdout",
          "text": [
            "['Norway', 'Canadian Rockies', 'Japan', 'Argentina', 'Columbia']\n",
            "['Columbia', 'Argentina', 'Japan', 'Canadian Rockies', 'Norway']\n"
          ]
        }
      ],
      "source": [
        "Places = [\"Norway\", \"Canadian Rockies\", \"Japan\", \"Argentina\", \"Columbia\"]\n",
        "print(Places)\n",
        "Places.reverse()\n",
        "print(Places)\n"
      ]
    },
    {
      "cell_type": "markdown",
      "metadata": {
        "id": "Av3DpLktbvQ6"
      },
      "source": [
        "Use reverse() to change the order of your list again. Print the list to show it’s back to its original order."
      ]
    },
    {
      "cell_type": "code",
      "execution_count": null,
      "metadata": {
        "id": "4ULZro6HbvQ6",
        "colab": {
          "base_uri": "https://localhost:8080/"
        },
        "outputId": "6c4cb347-130b-4f1f-8b3c-804638e2fe6b"
      },
      "outputs": [
        {
          "output_type": "stream",
          "name": "stdout",
          "text": [
            "['Norway', 'Canadian Rockies', 'Japan', 'Argentina', 'Columbia']\n",
            "['Columbia', 'Argentina', 'Japan', 'Canadian Rockies', 'Norway']\n",
            "['Norway', 'Canadian Rockies', 'Japan', 'Argentina', 'Columbia']\n"
          ]
        }
      ],
      "source": [
        "Places = [\"Norway\", \"Canadian Rockies\", \"Japan\", \"Argentina\", \"Columbia\"]\n",
        "print(Places)\n",
        "Places.reverse()\n",
        "print(Places)\n",
        "Places.reverse()\n",
        "print(Places)"
      ]
    },
    {
      "cell_type": "markdown",
      "metadata": {
        "id": "YdHBDTpBbvQ6"
      },
      "source": [
        "Use sort() to change your list so it’s stored in alphabetical order. Print the list to show that its order has been changed."
      ]
    },
    {
      "cell_type": "code",
      "execution_count": null,
      "metadata": {
        "id": "jqehacmFbvQ6",
        "colab": {
          "base_uri": "https://localhost:8080/"
        },
        "outputId": "ad8067e4-c376-4a5e-96d9-9e74f2630eaf"
      },
      "outputs": [
        {
          "output_type": "stream",
          "name": "stdout",
          "text": [
            "['Norway', 'Canadian Rockies', 'Japan', 'Argentina', 'Columbia']\n",
            "['Argentina', 'Canadian Rockies', 'Columbia', 'Japan', 'Norway']\n"
          ]
        }
      ],
      "source": [
        "Places = [\"Norway\", \"Canadian Rockies\", \"Japan\", \"Argentina\", \"Columbia\"]\n",
        "print(Places)\n",
        "Places.sort()\n",
        "print(Places)"
      ]
    },
    {
      "cell_type": "markdown",
      "metadata": {
        "id": "jb0ropaLbvQ6"
      },
      "source": [
        "Use sort() to change your list so it’s stored in reverse alphabetical order. Print the list to show that its order has changed."
      ]
    },
    {
      "cell_type": "code",
      "execution_count": null,
      "metadata": {
        "id": "iabJGQ6SbvQ6",
        "colab": {
          "base_uri": "https://localhost:8080/"
        },
        "outputId": "e03209ad-558e-4276-da1b-b71108bb25f6"
      },
      "outputs": [
        {
          "output_type": "stream",
          "name": "stdout",
          "text": [
            "['Norway', 'Canadian Rockies', 'Japan', 'Argentina', 'Columbia']\n",
            "['Norway', 'Japan', 'Columbia', 'Canadian Rockies', 'Argentina']\n"
          ]
        }
      ],
      "source": [
        "Places = [\"Norway\", \"Canadian Rockies\", \"Japan\", \"Argentina\", \"Columbia\"]\n",
        "print(Places)\n",
        "Places.sort(reverse=True)\n",
        "print(Places)"
      ]
    },
    {
      "cell_type": "markdown",
      "metadata": {
        "id": "rR47nuCPbvQ6"
      },
      "source": [
        "## Question 9\n",
        "**Dinner Guests:** Working with one of the programs from Question 4 through Question 7, use len() to print a message indicating the number of people you are inviting to dinner."
      ]
    },
    {
      "cell_type": "code",
      "execution_count": null,
      "metadata": {
        "id": "0DWVzPpbbvQ6",
        "colab": {
          "base_uri": "https://localhost:8080/"
        },
        "outputId": "826eb572-9165-4fbc-d3a7-2a921e59255f"
      },
      "outputs": [
        {
          "output_type": "stream",
          "name": "stdout",
          "text": [
            "Hello Grimace! You are an approved person and you must attend my shindig\n",
            "Hello The Hamburgler! You are an approved person and you must attend my shindig\n",
            "Hello Mayor McCheese! You are an approved person and you must attend my shindig\n",
            "Hello The Great Gonzo! You are an approved person and you must attend my shindig\n",
            "Hello Eric Idle! You are an approved person and you must attend my shindig\n",
            "Hello John Cleese! You are an approved person and you must attend my shindig\n",
            "Hello Ronald! You are an approved person and you must attend my shindig\n",
            "7 People are invited to my shindig.\n"
          ]
        }
      ],
      "source": [
        "import random\n",
        "SpecialPpl = [\"Grimace\", \"The Hamburgler\",\"Mayor McCheese\", \"The Great Gonzo\", \"Eric Idle\", \"John Cleese\", \"Ronald\"]  #Ppl list\n",
        "ApprovedPersons = random.sample(SpecialPpl, 2)                                  #random.sample pulls multiple random values from a list\n",
        "Acceptance = []\n",
        "\n",
        "for x in SpecialPpl:                                                            #For a value in Special Ppl                                                                        #Otherwise send shade to other people\n",
        "    print(f\"Hello {x}! You are an approved person and you must attend my shindig\")\n",
        "\n",
        "print(str(len(SpecialPpl)) + \" People are invited to my shindig.\")\n"
      ]
    },
    {
      "cell_type": "markdown",
      "metadata": {
        "id": "dnE8kM4xbvQ7"
      },
      "source": [
        "## Question 10\n",
        "**Every Function:** Think of something you could store in a list. For example, you could make a list of mountains, rivers, countries, cities, languages, or anything else you’d like. Write a program that creates a list containing these items and then uses each function introduced in this chapter at least once."
      ]
    },
    {
      "cell_type": "code",
      "execution_count": null,
      "metadata": {
        "id": "wvQc_1LEbvQ7",
        "colab": {
          "base_uri": "https://localhost:8080/"
        },
        "outputId": "2a02e76c-d698-4a41-ce30-34529d9e9fce"
      },
      "outputs": [
        {
          "output_type": "stream",
          "name": "stdout",
          "text": [
            "Don't climb Forbidden!\n",
            "Don't climb Shucksan!\n",
            "Don't climb Eldorado!\n",
            "Don't climb Sahale!\n",
            "Sharkfin Tower looks like its good. Dont perish in your attempt.\n",
            "Don't climb Triumph!\n",
            "Don't climb South Twin!\n",
            "7 Peaks left to climb before you get a North Face Team contract.\n",
            "['Eldorado', 'Forbidden', 'Sahale', 'Sharkfin Tower', 'Shucksan', 'South Twin', 'Triumph']\n",
            "Well done on your approved excursion, check it off the list\n",
            "['Eldorado', 'Forbidden', 'Sahale', 'Shucksan', 'South Twin', 'Triumph']\n"
          ]
        }
      ],
      "source": [
        "import random\n",
        "Peaks = [\"Forbidden\", \"Shucksan\", \"Eldorado\", \"Sahale\", \"Sharkfin Tower\", \"Triumph\", \"South Twin\"]\n",
        "ApprovedExcursions = random.choice(Peaks)\n",
        "\n",
        "#Random mountain climbing loop. Hope conditions line up.\n",
        "for x in Peaks:\n",
        "  if x in ApprovedExcursions:\n",
        "    print(f\"{x} looks like its good. Dont perish in your attempt.\")\n",
        "  else:\n",
        "    print(f\"Don't climb {x}!\")\n",
        "\n",
        "#List info, # Peaks, Sorted Peak\n",
        "print(str(len(Peaks)) + \" Peaks left to climb before you get a North Face Team contract.\")\n",
        "Peaks.sort()\n",
        "print(Peaks)\n",
        "\n",
        "\n",
        "#Climbed peak, revise list\n",
        "if ApprovedExcursions in Peaks:\n",
        "    Peaks.remove(ApprovedExcursions)\n",
        "print(f\"Well done on your approved excursion, check it off the list\")\n",
        "print(Peaks)\n"
      ]
    }
  ],
  "metadata": {
    "kernelspec": {
      "display_name": "Python 3 (ipykernel)",
      "language": "python",
      "name": "python3"
    },
    "language_info": {
      "codemirror_mode": {
        "name": "ipython",
        "version": 3
      },
      "file_extension": ".py",
      "mimetype": "text/x-python",
      "name": "python",
      "nbconvert_exporter": "python",
      "pygments_lexer": "ipython3",
      "version": "3.8.10"
    },
    "colab": {
      "provenance": [],
      "toc_visible": true,
      "include_colab_link": true
    }
  },
  "nbformat": 4,
  "nbformat_minor": 0
}
