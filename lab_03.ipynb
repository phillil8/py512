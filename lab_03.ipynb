{
  "cells": [
    {
      "cell_type": "markdown",
      "metadata": {
        "id": "view-in-github",
        "colab_type": "text"
      },
      "source": [
        "<a href=\"https://colab.research.google.com/github/phillil8/py512/blob/Initial/Copy_of_lab_03.ipynb\" target=\"_parent\"><img src=\"https://colab.research.google.com/assets/colab-badge.svg\" alt=\"Open In Colab\"/></a>"
      ]
    },
    {
      "cell_type": "markdown",
      "metadata": {
        "id": "ConaJb4mpYG2"
      },
      "source": [
        "[![image](https://colab.research.google.com/assets/colab-badge.svg)](https://colab.research.google.com/github/giswqs/geog-312/blob/master/labs/lab_03.ipynb)\n",
        "[![image](https://binder.pangeo.io/badge_logo.svg)](https://gishub.org/geog312-pangeo)"
      ]
    },
    {
      "cell_type": "markdown",
      "metadata": {
        "id": "obFRgUQ8pYG7"
      },
      "source": [
        "**Firstname Lastname**"
      ]
    },
    {
      "cell_type": "code",
      "execution_count": null,
      "metadata": {
        "id": "nVVAo1fNpYG7"
      },
      "outputs": [],
      "source": [
        "from datetime import datetime\n",
        "\n",
        "now = datetime.now()\n",
        "print(f\"Submitted time: {now}\")"
      ]
    },
    {
      "cell_type": "markdown",
      "metadata": {
        "id": "wBTN95qapYG9"
      },
      "source": [
        "## Question 1\n",
        "**Pizzas:** Think of at least three kinds of your favorite pizza. Store these pizza names in a list, and then use a for loop to print the name of each pizza.\n",
        "\n",
        "Modify your for loop to print a sentence using the name of the pizza instead of printing just the name of the pizza. For each pizza you should have one line of output containing a simple statement like *I like pepperoni pizza.*"
      ]
    },
    {
      "cell_type": "code",
      "execution_count": null,
      "metadata": {
        "id": "UCvH-lU4pYG-",
        "colab": {
          "base_uri": "https://localhost:8080/"
        },
        "outputId": "b516c4df-a769-482d-d34e-830dbab99c39"
      },
      "outputs": [
        {
          "output_type": "stream",
          "name": "stdout",
          "text": [
            "Meat Lovers is pizza and thats not bad.\n",
            "Island Home is pizza and thats not bad.\n",
            "Pacific Pork is damn good pizza and thats not bad\n",
            "Gyro is pizza and thats not bad.\n",
            "Trash Pizza is pizza and thats not bad.\n"
          ]
        }
      ],
      "source": [
        "import random\n",
        "Pizza = [\"Meat Lovers\", \"Island Home\", \"Pacific Pork\", \"Gyro\", \"Trash Pizza\"]\n",
        "Neutral = \" is pizza and thats not bad.\"\n",
        "Positive = \" is damn good pizza and thats not bad.\"\n",
        "Zza = random.choice(Pizza)\n",
        "\n",
        "for item in Pizza:\n",
        "  if item in Zza:\n",
        "    print(item + Positive)\n",
        "  else:\n",
        "    print(item + Neutral)\n",
        "\n"
      ]
    },
    {
      "cell_type": "markdown",
      "metadata": {
        "id": "lzOSxiszpYG-"
      },
      "source": [
        "Add a line at the end of your program, outside the for loop, that states how much you like pizza. The output should consist of three or more lines about the kinds of pizza you like and then an additional sentence, such as *I really love pizza!*"
      ]
    },
    {
      "cell_type": "code",
      "execution_count": null,
      "metadata": {
        "id": "KWYEkrtopYG_",
        "colab": {
          "base_uri": "https://localhost:8080/"
        },
        "outputId": "746bb1a1-9319-4d3c-c21f-7855b9792ce4"
      },
      "outputs": [
        {
          "output_type": "stream",
          "name": "stdout",
          "text": [
            "Meat Lovers is pizza and thats not bad.\n",
            "Island Home is pizza and thats not bad.\n",
            "Pacific Pork is pizza and thats not bad.\n",
            "Gyro is pizza and thats not bad.\n",
            "Trash Pizza is damn good pizza and thats not bad.\n",
            "Pizza is the disc my world revolves around. Its like if the sun was on your plate and its going to give you some gas and noises but its find because its the sun. I really love pizza!\n"
          ]
        }
      ],
      "source": [
        "import random\n",
        "Pizza = [\"Meat Lovers\", \"Island Home\", \"Pacific Pork\", \"Gyro\", \"Trash Pizza\"]\n",
        "Neutral = \" is pizza and thats not bad.\"\n",
        "Positive = \" is damn good pizza and thats not bad.\"\n",
        "Zza = random.choice(Pizza)\n",
        "\n",
        "for item in Pizza:\n",
        "  if item in Zza:\n",
        "    print(item + Positive)\n",
        "  else:\n",
        "    print(item + Neutral)\n",
        "\n",
        "print(\"Pizza is the disc my world revolves around. Its like if the sun was on your plate and its going to give you some gas and noises but its find because its the sun. I really love pizza!\")"
      ]
    },
    {
      "cell_type": "markdown",
      "metadata": {
        "id": "9ihOrqSgpYG_"
      },
      "source": [
        "## Question 2\n",
        "**Animals:** Think of at least three different animals that have a common characteristic. Store the names of these animals in a list, and then use a for loop to print out the name of each animal.\n",
        "\n",
        "Modify your program to print a statement about each animal, such as *A dog would make a great pet.*"
      ]
    },
    {
      "cell_type": "code",
      "execution_count": null,
      "metadata": {
        "id": "hPmYE2NFpYHA",
        "colab": {
          "base_uri": "https://localhost:8080/"
        },
        "outputId": "c0e54c64-6c81-4f9d-ceaf-8d5ebde1b2ac"
      },
      "outputs": [
        {
          "output_type": "stream",
          "name": "stdout",
          "text": [
            "Skunk is my dog and he is a problem.\n",
            "Dog is not always well behaved or friendly.\n",
            "Rabbits are cute but they smell really sour.\n"
          ]
        }
      ],
      "source": [
        "Animals = [\"Skunk\", \"Dog\", \"Rabbit\"]\n",
        "for item in Animals:\n",
        "  if item == \"Rabbit\":\n",
        "    print(\"Rabbits are cute but they smell really sour.\")\n",
        "  elif item == \"Skunk\":\n",
        "    print(\"Skunk is my dog and he is a problem.\")\n",
        "  elif item == \"Dog\":\n",
        "    print(\"Dog is not always well behaved or friendly.\")\n",
        "  else:\n",
        "    print(\"I don't know what this creature is\")"
      ]
    },
    {
      "cell_type": "markdown",
      "metadata": {
        "id": "NNvbQodwpYHA"
      },
      "source": [
        "Add a line at the end of your program stating what these animals have in common. You could print a sentence such as *Any of these animals would make a great pet!*"
      ]
    },
    {
      "cell_type": "code",
      "execution_count": null,
      "metadata": {
        "id": "whMn7GAupYHB",
        "colab": {
          "base_uri": "https://localhost:8080/"
        },
        "outputId": "01fda5a6-baf4-4035-d5c2-4d56c9e64640"
      },
      "outputs": [
        {
          "output_type": "stream",
          "name": "stdout",
          "text": [
            "Skunk is my dog and he is a problem.\n",
            "Dog is not always well behaved or friendly.\n",
            "Rabbits are cute but they smell really sour.\n",
            "All of these animals are capable of biting you.\n"
          ]
        }
      ],
      "source": [
        "Animals = [\"Skunk\", \"Dog\", \"Rabbit\"]\n",
        "for item in Animals:\n",
        "  if item == \"Rabbit\":\n",
        "    print(\"Rabbits are cute but they smell really sour.\")\n",
        "  elif item == \"Skunk\":\n",
        "    print(\"Skunk is my dog and he is a problem.\")\n",
        "  elif item == \"Dog\":\n",
        "    print(\"Dog is not always well behaved or friendly.\")\n",
        "  else:\n",
        "    print(\"I don't know what this creature is\")\n",
        "\n",
        "print(\"All of these animals are capable of biting you.\")"
      ]
    },
    {
      "cell_type": "markdown",
      "metadata": {
        "id": "OiMhoTOZpYHB"
      },
      "source": [
        "## Question 3\n",
        "**Counting to Twenty:** Use a for loop to print the numbers from 1 to 20, inclusive."
      ]
    },
    {
      "cell_type": "code",
      "execution_count": null,
      "metadata": {
        "id": "MHBi_g_8pYHB",
        "colab": {
          "base_uri": "https://localhost:8080/"
        },
        "outputId": "268e924c-3073-4c86-a454-c7c08353ec00"
      },
      "outputs": [
        {
          "output_type": "stream",
          "name": "stdout",
          "text": [
            "1\n",
            "2\n",
            "3\n",
            "4\n",
            "5\n",
            "6\n",
            "7\n",
            "8\n",
            "9\n",
            "10\n",
            "11\n",
            "12\n",
            "13\n",
            "14\n",
            "15\n",
            "16\n",
            "17\n",
            "18\n",
            "19\n",
            "20\n"
          ]
        }
      ],
      "source": [
        "for number in range(1, 21):\n",
        "  print(number)\n"
      ]
    },
    {
      "cell_type": "markdown",
      "metadata": {
        "id": "PFyaypXepYHC"
      },
      "source": [
        "## Question 4\n",
        "**One Hundred:** Make a list of the numbers from one to one hundred, and then use a for loop to print the numbers."
      ]
    },
    {
      "cell_type": "code",
      "execution_count": null,
      "metadata": {
        "id": "o1IIkybgpYHC",
        "colab": {
          "base_uri": "https://localhost:8080/"
        },
        "outputId": "c717e4e1-3053-4f29-e28f-cea290d1ac9d"
      },
      "outputs": [
        {
          "output_type": "stream",
          "name": "stdout",
          "text": [
            "1\n",
            "2\n",
            "3\n",
            "4\n",
            "5\n",
            "6\n",
            "7\n",
            "8\n",
            "9\n",
            "10\n",
            "11\n",
            "12\n",
            "13\n",
            "14\n",
            "15\n",
            "16\n",
            "17\n",
            "18\n",
            "19\n",
            "20\n",
            "21\n",
            "22\n",
            "23\n",
            "24\n",
            "25\n",
            "26\n",
            "27\n",
            "28\n",
            "29\n",
            "30\n",
            "31\n",
            "32\n",
            "33\n",
            "34\n",
            "35\n",
            "36\n",
            "37\n",
            "38\n",
            "39\n",
            "40\n",
            "41\n",
            "42\n",
            "43\n",
            "44\n",
            "45\n",
            "46\n",
            "47\n",
            "48\n",
            "49\n",
            "50\n",
            "51\n",
            "52\n",
            "53\n",
            "54\n",
            "55\n",
            "56\n",
            "57\n",
            "58\n",
            "59\n",
            "60\n",
            "61\n",
            "62\n",
            "63\n",
            "64\n",
            "65\n",
            "66\n",
            "67\n",
            "68\n",
            "69\n",
            "70\n",
            "71\n",
            "72\n",
            "73\n",
            "74\n",
            "75\n",
            "76\n",
            "77\n",
            "78\n",
            "79\n",
            "80\n",
            "81\n",
            "82\n",
            "83\n",
            "84\n",
            "85\n",
            "86\n",
            "87\n",
            "88\n",
            "89\n",
            "90\n",
            "91\n",
            "92\n",
            "93\n",
            "94\n",
            "95\n",
            "96\n",
            "97\n",
            "98\n",
            "99\n",
            "100\n"
          ]
        }
      ],
      "source": [
        "Hundo = list(range(1,101))\n",
        "for num in Hundo:\n",
        "  print(num)"
      ]
    },
    {
      "cell_type": "markdown",
      "metadata": {
        "id": "Lpo7eQkIpYHC"
      },
      "source": [
        "## Question 5\n",
        "**Summing a Hundred:** Make a list of the numbers from one to one million, and then use `min()` and `max()` to make sure your list actually starts at one and ends at one hundred. Also, use the sum() function to see how quickly Python can add a hundred numbers."
      ]
    },
    {
      "cell_type": "code",
      "execution_count": null,
      "metadata": {
        "id": "_3efTIjhpYHC",
        "colab": {
          "base_uri": "https://localhost:8080/"
        },
        "outputId": "151157b4-332a-403f-fdc6-d92ea9f45c6a"
      },
      "outputs": [
        {
          "output_type": "stream",
          "name": "stdout",
          "text": [
            "1000000\n",
            "1\n",
            "500000500000\n"
          ]
        }
      ],
      "source": [
        "Hundo = list(range(1,1000001))\n",
        "lil = min(Hundo)\n",
        "big = max(Hundo)\n",
        "extrabig = sum(Hundo)\n",
        "\n",
        "print(f\"{big}\")\n",
        "print(f\"{lil}\")\n",
        "print(f\"{extrabig}\")"
      ]
    },
    {
      "cell_type": "markdown",
      "metadata": {
        "id": "beWSavNZpYHD"
      },
      "source": [
        "## Question 6\n",
        "**Odd Numbers:** Use the third argument of the `range()` function to make a list of the odd numbers from 1 to 20. Use a `for` loop to print each number."
      ]
    },
    {
      "cell_type": "code",
      "execution_count": null,
      "metadata": {
        "id": "NQuH_NL2pYHD",
        "colab": {
          "base_uri": "https://localhost:8080/"
        },
        "outputId": "21074ee2-ba25-46e1-f4e6-d049df970414"
      },
      "outputs": [
        {
          "output_type": "stream",
          "name": "stdout",
          "text": [
            "1\n",
            "3\n",
            "5\n",
            "7\n",
            "9\n",
            "11\n",
            "13\n",
            "15\n",
            "17\n",
            "19\n"
          ]
        }
      ],
      "source": [
        "numboz = range(1, 21, 2)\n",
        "for n in numboz:\n",
        "  print(n)"
      ]
    },
    {
      "cell_type": "markdown",
      "metadata": {
        "id": "g52O1mFJpYHD"
      },
      "source": [
        "## Question 7\n",
        "**Threes:** Make a list of the multiples of 3 from 3 to 30. Use a `for` loop to print the numbers in your list."
      ]
    },
    {
      "cell_type": "code",
      "execution_count": null,
      "metadata": {
        "id": "uRKU0LucpYHD",
        "colab": {
          "base_uri": "https://localhost:8080/"
        },
        "outputId": "2dacee67-e901-48c5-ec55-56cc09c49bcc"
      },
      "outputs": [
        {
          "output_type": "stream",
          "name": "stdout",
          "text": [
            "3\n",
            "6\n",
            "9\n",
            "12\n",
            "15\n",
            "18\n",
            "21\n",
            "24\n",
            "27\n",
            "30\n"
          ]
        }
      ],
      "source": [
        "numboz = range(3,33,3)\n",
        "for n in numboz:\n",
        "  print(n)"
      ]
    },
    {
      "cell_type": "markdown",
      "metadata": {
        "id": "ddG1qTKTpYHE"
      },
      "source": [
        "## Question 8\n",
        "**Cubes:** A number raised to the third power is called a cube. For example, the cube of 2 is written as 2 ** 3 in Python. Make a list of the first 10 cubes (that is, the cube of each integer from 1 through 10), and use a for loop to print out the value of each cube."
      ]
    },
    {
      "cell_type": "code",
      "execution_count": null,
      "metadata": {
        "id": "FNvgHexzpYHE",
        "colab": {
          "base_uri": "https://localhost:8080/"
        },
        "outputId": "c7c304c1-ff2e-4b35-e95f-65a29691d13a"
      },
      "outputs": [
        {
          "output_type": "stream",
          "name": "stdout",
          "text": [
            "1\n",
            "8\n",
            "27\n",
            "64\n",
            "125\n",
            "216\n",
            "343\n",
            "512\n",
            "729\n",
            "1000\n"
          ]
        }
      ],
      "source": [
        "cubes= []\n",
        "for num in range(1,11):\n",
        "  cube = num**3\n",
        "  cubes.append(cube)\n",
        "for cube in cubes:\n",
        "  print(cube)"
      ]
    },
    {
      "cell_type": "markdown",
      "metadata": {
        "id": "wU94hH8WpYHE"
      },
      "source": [
        "## Question 9\n",
        "**Cube Comprehension:** Use a list comprehension to generate a list of the first 10 cubes."
      ]
    },
    {
      "cell_type": "code",
      "execution_count": null,
      "metadata": {
        "id": "x6_8htwMpYHE",
        "colab": {
          "base_uri": "https://localhost:8080/"
        },
        "outputId": "d27018b1-d19e-448c-c729-a44f4b850ad0"
      },
      "outputs": [
        {
          "output_type": "stream",
          "name": "stdout",
          "text": [
            "[0, 1, 8, 27, 64, 125, 216, 343, 512, 729, 1000]\n"
          ]
        }
      ],
      "source": [
        "cubes = [n**3 for n in range(1,11)]\n",
        "print(cubes)"
      ]
    },
    {
      "cell_type": "markdown",
      "metadata": {
        "id": "dFY2PN1UpYHE"
      },
      "source": [
        "## Question 10\n",
        "**Slices:** Using one of the programs you wrote in this lab, add several lines to the end of the program that do the following:\n",
        "\n",
        "Print the message *The first three items in the list are:*. Then use a slice to print the first three items from that program’s list."
      ]
    },
    {
      "cell_type": "code",
      "execution_count": null,
      "metadata": {
        "id": "A7C8pD_SpYHF",
        "colab": {
          "base_uri": "https://localhost:8080/"
        },
        "outputId": "9e3f05de-f8bd-45c6-bea6-6376a7d4cc13"
      },
      "outputs": [
        {
          "output_type": "stream",
          "name": "stdout",
          "text": [
            "[1, 8, 27]\n"
          ]
        }
      ],
      "source": [
        "cubes = [n**3 for n in range(1,11)]\n",
        "print(cubes[:3])"
      ]
    },
    {
      "cell_type": "markdown",
      "metadata": {
        "id": "vN5FqWrCpYHF"
      },
      "source": [
        "Print the message *Three items from the middle of the list are:*. Use a slice to print three items from the middle of the list."
      ]
    },
    {
      "cell_type": "code",
      "execution_count": null,
      "metadata": {
        "id": "wkSGvsnPpYHF",
        "colab": {
          "base_uri": "https://localhost:8080/"
        },
        "outputId": "b7a08dc2-2cbe-496d-d079-0391dc302441"
      },
      "outputs": [
        {
          "output_type": "stream",
          "name": "stdout",
          "text": [
            "[64, 125, 216]\n"
          ]
        }
      ],
      "source": [
        "cubes = [n**3 for n in range(1,11)]\n",
        "print(cubes[3:6])"
      ]
    },
    {
      "cell_type": "markdown",
      "metadata": {
        "id": "yp31hiFppYHF"
      },
      "source": [
        "Print the message *The last three items in the list are:*. Use a slice to print the last three items in the list."
      ]
    },
    {
      "cell_type": "code",
      "execution_count": null,
      "metadata": {
        "id": "PIFlX_OupYHG",
        "colab": {
          "base_uri": "https://localhost:8080/"
        },
        "outputId": "fb6b95c9-b8eb-4d87-c1cf-afba9d1ae8fa"
      },
      "outputs": [
        {
          "output_type": "stream",
          "name": "stdout",
          "text": [
            "[512, 729, 1000]\n"
          ]
        }
      ],
      "source": [
        "cubes = [n**3 for n in range(1,11)]\n",
        "print(cubes[7:])"
      ]
    },
    {
      "cell_type": "markdown",
      "metadata": {
        "id": "GR0OXbYnpYHG"
      },
      "source": [
        "## Question 11\n",
        "**My Pizzas, Your Pizzas:** Start with your program from Question 1. Make a copy of the list of pizzas, and call it friend_pizzas. Then, do the following:\n",
        "\n",
        "Add a new pizza to the original list."
      ]
    },
    {
      "cell_type": "code",
      "source": [],
      "metadata": {
        "id": "1gvHWiM0MbWI"
      },
      "execution_count": null,
      "outputs": []
    },
    {
      "cell_type": "code",
      "execution_count": null,
      "metadata": {
        "id": "fR1yUouXpYHG",
        "colab": {
          "base_uri": "https://localhost:8080/"
        },
        "outputId": "f9ccc6e7-239b-4510-95b1-5e5aa030b642"
      },
      "outputs": [
        {
          "output_type": "stream",
          "name": "stdout",
          "text": [
            "['Meat Lovers', 'Island Home', 'Pacific Pork', 'Gyro', 'Trash Pizza', 'supreme', 'french onion pizza', 'marg pizza', 'vodka pizza', 'taco pizza', 'mustard and licorice pizza']\n"
          ]
        }
      ],
      "source": [
        "import random\n",
        "Pizza = [\"Meat Lovers\", \"Island Home\", \"Pacific Pork\", \"Gyro\", \"Trash Pizza\"]\n",
        "friend_pizzas = [\"Meat Lovers\", \"Island Home\", \"Pacific Pork\", \"Gyro\", \"Trash Pizza\"]\n",
        "newpizzas = [\"supreme\", \"french onion pizza\", \"marg pizza\", \"vodka pizza\", \"taco pizza\", \"mustard and licorice pizza\"]\n",
        "friend_pizzas.extend(newpizzas)\n",
        "print(friend_pizzas)"
      ]
    },
    {
      "cell_type": "markdown",
      "metadata": {
        "id": "2Nmki5kspYHG"
      },
      "source": [
        "Add a different pizza to the list `friend_pizzas`."
      ]
    },
    {
      "cell_type": "code",
      "execution_count": null,
      "metadata": {
        "id": "RvZ0Ovk1pYHG",
        "colab": {
          "base_uri": "https://localhost:8080/"
        },
        "outputId": "1fe3f35e-37f6-415d-ea15-998e8459f298"
      },
      "outputs": [
        {
          "output_type": "stream",
          "name": "stdout",
          "text": [
            "['Meat Lovers', 'Island Home', 'Pacific Pork', 'Gyro', 'Trash Pizza', 'supreme', 'french onion pizza', 'marg pizza', 'vodka pizza', 'taco pizza', 'mustard and licorice pizza', 'different pizza']\n"
          ]
        }
      ],
      "source": [
        "import random\n",
        "Pizza = [\"Meat Lovers\", \"Island Home\", \"Pacific Pork\", \"Gyro\", \"Trash Pizza\"]\n",
        "friend_pizzas = [\"Meat Lovers\", \"Island Home\", \"Pacific Pork\", \"Gyro\", \"Trash Pizza\"]\n",
        "newpizzas = [\"supreme\", \"french onion pizza\", \"marg pizza\", \"vodka pizza\", \"taco pizza\", \"mustard and licorice pizza\", \"different pizza\"]\n",
        "friend_pizzas.extend(newpizzas)\n",
        "print(friend_pizzas)"
      ]
    },
    {
      "cell_type": "markdown",
      "metadata": {
        "id": "CCYBiIHJpYHG"
      },
      "source": [
        "Prove that you have two separate lists. Print the message *My favorite pizzas are:*, and then use a for loop to print the first list. Print the message *My friend’s favorite pizzas are:*, and then use a for loop to print the second list. Make sure each new pizza is stored in the appropriate list."
      ]
    },
    {
      "cell_type": "code",
      "execution_count": null,
      "metadata": {
        "id": "4Zpy0KAKpYHG",
        "colab": {
          "base_uri": "https://localhost:8080/"
        },
        "outputId": "5b447ae5-b1a1-4126-d129-b164ec2ea1ee"
      },
      "outputs": [
        {
          "output_type": "stream",
          "name": "stdout",
          "text": [
            "My favorite pizzars are:\n",
            "Meat Lovers\n",
            "Island Home\n",
            "Pacific Pork\n",
            "Gyro\n",
            "Trash Pizza\n",
            "My friends weird favorite pizzas are: \n",
            "Meat Lovers\n",
            "Island Home\n",
            "Pacific Pork\n",
            "Gyro\n",
            "Trash Pizza\n",
            "supreme\n",
            "french onion pizza\n",
            "marg pizza\n",
            "vodka pizza\n",
            "taco pizza\n",
            "mustard and licorice pizza\n",
            "different pizza\n"
          ]
        }
      ],
      "source": [
        "import random\n",
        "Pizza = [\"Meat Lovers\", \"Island Home\", \"Pacific Pork\", \"Gyro\", \"Trash Pizza\"]\n",
        "friend_pizzas = [\"Meat Lovers\", \"Island Home\", \"Pacific Pork\", \"Gyro\", \"Trash Pizza\"]\n",
        "newpizzas = [\"supreme\", \"french onion pizza\", \"marg pizza\", \"vodka pizza\", \"taco pizza\", \"mustard and licorice pizza\", \"different pizza\"]\n",
        "friend_pizzas.extend(newpizzas)\n",
        "\n",
        "print(\"My favorite pizzars are:\")\n",
        "for za in Pizza:\n",
        "  print(za)\n",
        "\n",
        "print(\"My friends weird favorite pizzas are: \")\n",
        "for za in friend_pizzas:\n",
        "    print(za)"
      ]
    },
    {
      "cell_type": "markdown",
      "metadata": {
        "id": "cwLrXt4SpYHH"
      },
      "source": [
        "## Question 12\n",
        "**Buffet:** A buffet-style restaurant offers only five basic foods. Think of five simple foods, and store them in a tuple.\n",
        "\n",
        "Use a for loop to print each food the restaurant offers."
      ]
    },
    {
      "cell_type": "code",
      "execution_count": null,
      "metadata": {
        "id": "e33NeCnRpYHH",
        "colab": {
          "base_uri": "https://localhost:8080/"
        },
        "outputId": "3562641a-9bce-4328-a0ea-c5da0755504a"
      },
      "outputs": [
        {
          "output_type": "stream",
          "name": "stdout",
          "text": [
            "pasta\n",
            "stale bread\n",
            "dubious crab legs\n",
            "enchiladas but half dry\n",
            "lo mein with too much sauce\n"
          ]
        }
      ],
      "source": [
        "simpl_fud = (\"pasta\", \"stale bread\", \"dubious crab legs\", \"enchiladas but half dry\", \"lo mein with too much sauce\")\n",
        "for food in simpl_fud:\n",
        "  print(food)"
      ]
    },
    {
      "cell_type": "markdown",
      "metadata": {
        "id": "aAwpxeW8pYHN"
      },
      "source": [
        "Try to modify one of the items, and make sure that Python rejects the change."
      ]
    },
    {
      "cell_type": "code",
      "execution_count": null,
      "metadata": {
        "id": "fp1hTTGUpYHN",
        "colab": {
          "base_uri": "https://localhost:8080/",
          "height": 228
        },
        "outputId": "d722a04a-ba89-4ed3-e174-c48f4315d8f8"
      },
      "outputs": [
        {
          "output_type": "error",
          "ename": "TypeError",
          "evalue": "ignored",
          "traceback": [
            "\u001b[0;31m---------------------------------------------------------------------------\u001b[0m",
            "\u001b[0;31mTypeError\u001b[0m                                 Traceback (most recent call last)",
            "\u001b[0;32m<ipython-input-41-e59b3a635770>\u001b[0m in \u001b[0;36m<cell line: 2>\u001b[0;34m()\u001b[0m\n\u001b[1;32m      1\u001b[0m \u001b[0msimpl_fud\u001b[0m \u001b[0;34m=\u001b[0m \u001b[0;34m(\u001b[0m\u001b[0;34m\"pasta\"\u001b[0m\u001b[0;34m,\u001b[0m \u001b[0;34m\"stale bread\"\u001b[0m\u001b[0;34m,\u001b[0m \u001b[0;34m\"dubious crab legs\"\u001b[0m\u001b[0;34m,\u001b[0m \u001b[0;34m\"enchiladas but half dry\"\u001b[0m\u001b[0;34m,\u001b[0m \u001b[0;34m\"lo mein with too much sauce\"\u001b[0m\u001b[0;34m)\u001b[0m\u001b[0;34m\u001b[0m\u001b[0;34m\u001b[0m\u001b[0m\n\u001b[0;32m----> 2\u001b[0;31m \u001b[0;32mdel\u001b[0m \u001b[0msimpl_fud\u001b[0m \u001b[0;34m[\u001b[0m\u001b[0;36m4\u001b[0m\u001b[0;34m]\u001b[0m\u001b[0;34m\u001b[0m\u001b[0;34m\u001b[0m\u001b[0m\n\u001b[0m\u001b[1;32m      3\u001b[0m \u001b[0;32mfor\u001b[0m \u001b[0mfood\u001b[0m \u001b[0;32min\u001b[0m \u001b[0msimpl_fud\u001b[0m\u001b[0;34m:\u001b[0m\u001b[0;34m\u001b[0m\u001b[0;34m\u001b[0m\u001b[0m\n\u001b[1;32m      4\u001b[0m   \u001b[0mprint\u001b[0m\u001b[0;34m(\u001b[0m\u001b[0mfood\u001b[0m\u001b[0;34m)\u001b[0m\u001b[0;34m\u001b[0m\u001b[0;34m\u001b[0m\u001b[0m\n",
            "\u001b[0;31mTypeError\u001b[0m: 'tuple' object doesn't support item deletion"
          ]
        }
      ],
      "source": [
        "simpl_fud = (\"pasta\", \"stale bread\", \"dubious crab legs\", \"enchiladas but half dry\", \"lo mein with too much sauce\")\n",
        "del simpl_fud [4]\n",
        "for food in simpl_fud:\n",
        "  print(food)"
      ]
    },
    {
      "cell_type": "markdown",
      "metadata": {
        "id": "qiMYJ_GxpYHN"
      },
      "source": [
        "The restaurant changes its menu, replacing two of the items with different foods. Add a line that rewrites the tuple, and then use a for loop to print each of the items on the revised menu."
      ]
    },
    {
      "cell_type": "code",
      "execution_count": null,
      "metadata": {
        "id": "DUbTUIfSpYHO",
        "colab": {
          "base_uri": "https://localhost:8080/"
        },
        "outputId": "ad0d2528-26d0-4dc8-edca-91dada006615"
      },
      "outputs": [
        {
          "output_type": "stream",
          "name": "stdout",
          "text": [
            "stale bread\n",
            "dubious crab legs\n",
            "enchiladas but half dry\n",
            "day old burgers\n",
            "unset jello\n"
          ]
        }
      ],
      "source": [
        "simpl_fud = (\"pasta\", \"stale bread\", \"dubious crab legs\", \"enchiladas but half dry\", \"lo mein with too much sauce\")\n",
        "complex_fud = simpl_fud[1:4] + (\"day old burgers\", \"unset jello\")\n",
        "\n",
        "\n",
        "for food in complex_fud:\n",
        "  print(food)"
      ]
    }
  ],
  "metadata": {
    "kernelspec": {
      "display_name": "Python 3 (ipykernel)",
      "language": "python",
      "name": "python3"
    },
    "language_info": {
      "codemirror_mode": {
        "name": "ipython",
        "version": 3
      },
      "file_extension": ".py",
      "mimetype": "text/x-python",
      "name": "python",
      "nbconvert_exporter": "python",
      "pygments_lexer": "ipython3",
      "version": "3.8.10"
    },
    "colab": {
      "provenance": [],
      "include_colab_link": true
    }
  },
  "nbformat": 4,
  "nbformat_minor": 0
}
