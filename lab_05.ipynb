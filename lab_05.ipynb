{
  "cells": [
    {
      "cell_type": "markdown",
      "metadata": {
        "id": "view-in-github",
        "colab_type": "text"
      },
      "source": [
        "<a href=\"https://colab.research.google.com/github/phillil8/py512/blob/Initial/Copy_of_lab_05.ipynb\" target=\"_parent\"><img src=\"https://colab.research.google.com/assets/colab-badge.svg\" alt=\"Open In Colab\"/></a>"
      ]
    },
    {
      "cell_type": "markdown",
      "metadata": {
        "id": "i6jgvM0BjJzg"
      },
      "source": [
        "[![image](https://colab.research.google.com/assets/colab-badge.svg)](https://colab.research.google.com/github/giswqs/geog-312/blob/master/labs/lab_05.ipynb)\n",
        "[![image](https://binder.pangeo.io/badge_logo.svg)](https://gishub.org/geog312-pangeo)\n",
        "\n",
        "**Firstname Lastname**"
      ]
    },
    {
      "cell_type": "code",
      "execution_count": null,
      "metadata": {
        "id": "i3gNBUWkjJzi"
      },
      "outputs": [],
      "source": [
        "from datetime import datetime\n",
        "\n",
        "now = datetime.now()\n",
        "print(f\"Submitted time: {now}\")"
      ]
    },
    {
      "cell_type": "markdown",
      "metadata": {
        "id": "7j90iTZrjJzj"
      },
      "source": [
        "## Question 1\n",
        "**Person:** Use a dictionary to store information about a person you know. Store their first name, last name, age, and the city in which they live. You should have keys such as first_name, last_name, age, and city. Print each piece of information stored in your dictionary."
      ]
    },
    {
      "cell_type": "code",
      "execution_count": null,
      "metadata": {
        "id": "_8PWw2dPjJzk",
        "colab": {
          "base_uri": "https://localhost:8080/"
        },
        "outputId": "2a2d7ecf-b0a5-4696-992f-d32ccad47d24"
      },
      "outputs": [
        {
          "output_type": "stream",
          "name": "stdout",
          "text": [
            "Will\n",
            "Spooth\n",
            "30\n",
            "Barre\n"
          ]
        }
      ],
      "source": [
        "Friends = {\n",
        "    \"First\": \"Will\",\n",
        "    \"Last\":\"Spooth\",\n",
        "    \"Age\":\"30\",\n",
        "    \"City\": \"Barre\"\n",
        "}\n",
        "\n",
        "print(Friends[\"First\"])\n",
        "print(Friends[\"Last\"])\n",
        "print(Friends[\"Age\"])\n",
        "print(Friends[\"City\"])"
      ]
    },
    {
      "cell_type": "markdown",
      "metadata": {
        "id": "O94gDSHJjJzk"
      },
      "source": [
        "## Question 2\n",
        "**Favorite Numbers:** Use a dictionary to store people’s favorite numbers. Think of five names, and use them as keys in your dictionary. Think of a favorite number for each person, and store each as a value in your dictionary. Print each person’s name and their favorite number. For even more fun, poll a few friends and get some actual data for your program."
      ]
    },
    {
      "cell_type": "code",
      "execution_count": null,
      "metadata": {
        "id": "ftV5nBf6jJzk",
        "colab": {
          "base_uri": "https://localhost:8080/"
        },
        "outputId": "3260ccf2-581b-4d24-ebdb-649ad4f583cc"
      },
      "outputs": [
        {
          "output_type": "stream",
          "name": "stdout",
          "text": [
            "4\n",
            "4\n",
            "1\n",
            "7348\n"
          ]
        }
      ],
      "source": [
        "Numb_Fav = {\n",
        "    \"Borg\": \"4\",\n",
        "    \"Borg1\":\"4\",\n",
        "    \"Borg2\":\"1\",\n",
        "    \"Borg4\": \"7348\"\n",
        "}\n",
        "print(Numb_Fav[\"Borg\"])\n",
        "print(Numb_Fav[\"Borg1\"])\n",
        "print(Numb_Fav[\"Borg2\"])\n",
        "print(Numb_Fav[\"Borg4\"])"
      ]
    },
    {
      "cell_type": "markdown",
      "metadata": {
        "id": "DWt1etr9jJzk"
      },
      "source": [
        "## Question 3\n",
        "**Glossary:** A Python dictionary can be used to model an actual dictionary. However, to avoid confusion, let’s call it a glossary.\n",
        "\n",
        "* Think of five programming words you’ve learned about in the previous chapters. Use these words as the keys in your glossary, and store their meanings as values.\n",
        "* Print each word and its meaning as neatly formatted output. You might print the word followed by a colon and then its meaning, or print the word on one line and then print its meaning indented on a second line. Use the newline character (\\n) to insert a blank line between each word-meaning pair in your output."
      ]
    },
    {
      "cell_type": "code",
      "execution_count": null,
      "metadata": {
        "id": "-A543FiEjJzk",
        "colab": {
          "base_uri": "https://localhost:8080/"
        },
        "outputId": "d892ac8e-b335-4e91-d856-0d13599747b9"
      },
      "outputs": [
        {
          "output_type": "stream",
          "name": "stdout",
          "text": [
            "For Loop: A control flow statement that lets you iterate over a sequence.\n",
            "While Loop: A control flow statement that repeatedly executes a block of code as long as conditions are TRUE.\n",
            "If/Else/Elif: Control flow statements used for decision makeing. If used to test for TRUE. Else is used if IF is FALSE. Elif allows multiple conditions between IF and ELSE\n",
            "Ordinal: Number used to idicate a position or order in a sequence.\n",
            "Tuple: Immutable(cannot be changed) list.\n"
          ]
        }
      ],
      "source": [
        "Terms = {\n",
        "    \"For Loop\": \"A control flow statement that lets you iterate over a sequence.\",\n",
        "    \"While Loop\":\"A control flow statement that repeatedly executes a block of code as long as conditions are TRUE.\",\n",
        "    \"If/Else/Elif\":\"Control flow statements used for decision makeing. If used to test for TRUE. Else is used if IF is FALSE. Elif allows multiple conditions between IF and ELSE\",\n",
        "    \"Ordinal\":\"Number used to idicate a position or order in a sequence.\",\n",
        "    \"Tuple\":\"Immutable(cannot be changed) list.\",\n",
        "\n",
        "}\n",
        "print(\"For Loop:\", Terms[\"For Loop\"])\n",
        "print(\"While Loop:\", Terms[\"While Loop\"])\n",
        "print(\"If/Else/Elif:\", Terms[\"If/Else/Elif\"])\n",
        "print(\"Ordinal:\", Terms[\"Ordinal\"])\n",
        "print(\"Tuple:\", Terms[\"Tuple\"])"
      ]
    },
    {
      "cell_type": "markdown",
      "metadata": {
        "id": "SiJOlptxjJzl"
      },
      "source": [
        "## Question 4\n",
        "**Glossary 2:** Now that you know how to loop through a dictionary, clean up the code from Question 3 by replacing your series of print() calls with a loop that runs through the dictionary’s keys and values. When you’re sure that your loop works, add five more Python terms to your glossary. When you run your program again, these new words and meanings should automatically be included in the output."
      ]
    },
    {
      "cell_type": "code",
      "execution_count": null,
      "metadata": {
        "id": "tbZI4-IQjJzm",
        "colab": {
          "base_uri": "https://localhost:8080/"
        },
        "outputId": "cdd78363-8b4a-477c-cc7d-41bbb30638bf"
      },
      "outputs": [
        {
          "output_type": "stream",
          "name": "stdout",
          "text": [
            "For Loop, A control flow statement that lets you iterate over a sequence.\n",
            "While Loop, A control flow statement that repeatedly executes a block of code as long as conditions are TRUE.\n",
            "If/Else/Elif, Control flow statements used for decision makeing. If used to test for TRUE. Else is used if IF is FALSE. Elif allows multiple conditions between IF and ELSE.\n",
            "Ordinal, Number used to idicate a position or order in a sequence.\n",
            "Tuple, Immutable(cannot be changed) list.\n",
            "Variable, named storage location that can hold data.\n",
            "List, Ordered collection of items that can contain different data types\n",
            "Function, reusable block of code that performs specific task\n",
            "String, characters enclosed in single or double quotes. used to represent text.\n",
            "Boolean, Data type that represents two values: True and False\n"
          ]
        }
      ],
      "source": [
        "Terms = {\n",
        "    \"For Loop\": \"A control flow statement that lets you iterate over a sequence.\",\n",
        "    \"While Loop\":\"A control flow statement that repeatedly executes a block of code as long as conditions are TRUE.\",\n",
        "    \"If/Else/Elif\":\"Control flow statements used for decision makeing. If used to test for TRUE. Else is used if IF is FALSE. Elif allows multiple conditions between IF and ELSE.\",\n",
        "    \"Ordinal\":\"Number used to idicate a position or order in a sequence.\",\n",
        "    \"Tuple\":\"Immutable(cannot be changed) list.\",\n",
        "    \"Variable\": \"named storage location that can hold data.\",\n",
        "    \"List\" : \"Ordered collection of items that can contain different data types\",\n",
        "    \"Function\": \"reusable block of code that performs specific task\",\n",
        "    \"String\": \"characters enclosed in single or double quotes. used to represent text.\",\n",
        "    \"Boolean\": \"Data type that represents two values: True and False\",\n",
        "}\n",
        "for key, value in Terms.items():\n",
        "  print(f\"{key}, {value}\")"
      ]
    },
    {
      "cell_type": "markdown",
      "metadata": {
        "id": "9EnDXAEUjJzm"
      },
      "source": [
        "## Question 5\n",
        "**Rivers:** Make a dictionary containing three major rivers and the country each river runs through. One key-value pair might be 'nile': 'egypt'.\n",
        "\n",
        "* Use a loop to print a sentence about each river, such as *The Nile runs through Egypt.*\n",
        "* Use a loop to print the name of each river included in the dictionary.\n",
        "* Use a loop to print the name of each country included in the dictionary."
      ]
    },
    {
      "cell_type": "code",
      "execution_count": null,
      "metadata": {
        "id": "VZWiv0a0jJzn",
        "colab": {
          "base_uri": "https://localhost:8080/"
        },
        "outputId": "1a1a18d4-980b-4526-f52a-cedc443d5904"
      },
      "outputs": [
        {
          "output_type": "stream",
          "name": "stdout",
          "text": [
            "The Columbia River runs through The USA.\n",
            "Columbia River\n",
            "The USA\n",
            "The Kamchatka runs through Russia.\n",
            "Kamchatka\n",
            "Russia\n",
            "The Indus River runs through India.\n",
            "Indus River\n",
            "India\n"
          ]
        }
      ],
      "source": [
        "Rivers = {\n",
        "    \"The USA\" : \"Columbia River\",\n",
        "    \"Russia\" : \"Kamchatka\",\n",
        "    \"India\" : \"Indus River\"\n",
        "}\n",
        "for key, value in Rivers.items():\n",
        "  print(f\"The {value} runs through {key}.\")\n",
        "  print(f\"{value}\")\n",
        "  print(f\"{key}\")"
      ]
    },
    {
      "cell_type": "markdown",
      "metadata": {
        "id": "B7h8xtJEjJzn"
      },
      "source": [
        "## Question 6\n",
        "**Polling:** Based on the dictionary below (i.e., favorite_languages):\n",
        "\n",
        "* Make a list of people who should take the favorite languages poll. Include some names that are already in the dictionary and some that are not.\n",
        "* Loop through the list of people who should take the poll. If they have already taken the poll, print a message thanking them for responding. If they have not yet taken the poll, print a message inviting them to take the poll."
      ]
    },
    {
      "cell_type": "code",
      "execution_count": null,
      "metadata": {
        "id": "QYUIqPgljJzn",
        "colab": {
          "base_uri": "https://localhost:8080/"
        },
        "outputId": "3d7b831a-b85b-41d5-c5d0-5434752bc746"
      },
      "outputs": [
        {
          "output_type": "stream",
          "name": "stdout",
          "text": [
            "Thank you jen for your participation in this poll.\n",
            "satan please take our poll.\n",
            "Thank you sarah for your participation in this poll.\n",
            "Thank you edward for your participation in this poll.\n",
            "Thank you phil for your participation in this poll.\n",
            "Hamburglur please take our poll.\n"
          ]
        }
      ],
      "source": [
        "favorite_languages = {\n",
        "    'jen': 'python',\n",
        "    'sarah': 'c',\n",
        "    'edward': 'ruby',\n",
        "    'phil': 'python',\n",
        "    }\n",
        "lang_poll = [\"jen\", \"satan\", \"sarah\", \"edward\", \"phil\", \"Hamburglur\"]\n",
        "for name in lang_poll:\n",
        "  if name in favorite_languages:\n",
        "    print(f\"Thank you {name} for your participation in this poll.\")\n",
        "  else:\n",
        "    print(f\"{name} please take our poll.\")"
      ]
    },
    {
      "cell_type": "markdown",
      "metadata": {
        "id": "7nqsYw7NjJzo"
      },
      "source": []
    },
    {
      "cell_type": "markdown",
      "metadata": {
        "id": "FLA9YgwMjJzo"
      },
      "source": [
        "## Question 7\n",
        "**People:** Start with the program you wrote for Question 1. Make two new dictionaries representing different people, and store all three dictionaries in a list called `people`. Loop through your list of people. As you loop through the list, print everything you know about each person."
      ]
    },
    {
      "cell_type": "code",
      "execution_count": null,
      "metadata": {
        "id": "d3Dl8yb9jJzo",
        "colab": {
          "base_uri": "https://localhost:8080/"
        },
        "outputId": "caf933d2-80a9-4465-87bd-fd3f39c2e638"
      },
      "outputs": [
        {
          "output_type": "stream",
          "name": "stdout",
          "text": [
            "First Name:  Will\n",
            "Last Name:  Spooth\n",
            "Age:  30\n",
            "City:  Barre\n",
            "First Name:  Eob\n",
            "Last Name:  Eckrooth\n",
            "Age:  31\n",
            "City:  Burlington\n",
            "First Name:  Jean\n",
            "Last Name:  Gazabat\n",
            "Age:  31\n",
            "City:  Bremerton\n"
          ]
        }
      ],
      "source": [
        "Spooth = {\n",
        "    \"First\": \"Will\",\n",
        "    \"Last\":\"Spooth\",\n",
        "    \"Age\":\"30\",\n",
        "    \"City\": \"Barre\",\n",
        "}\n",
        "Eckrooth = {\n",
        "    \"First\": \"Eob\",\n",
        "    \"Last\":\"Eckrooth\",\n",
        "    \"Age\":\"31\",\n",
        "    \"City\": \"Burlington\",\n",
        "}\n",
        "JeansLoois = {\n",
        "    \"First\": \"Jean\",\n",
        "    \"Last\":\"Gazabat\",\n",
        "    \"Age\":\"31\",\n",
        "    \"City\": \"Bremerton\",\n",
        "}\n",
        "people = [Spooth, Eckrooth, JeansLoois]\n",
        "for ppl in people:\n",
        "  print(\"First Name: \", ppl[\"First\"])\n",
        "  print(\"Last Name: \", ppl[\"Last\"])\n",
        "  print(\"Age: \", ppl[\"Age\"])\n",
        "  print(\"City: \", ppl[\"City\"])"
      ]
    },
    {
      "cell_type": "markdown",
      "metadata": {
        "id": "HoVDJOYXjJzp"
      },
      "source": [
        "## Question 8\n",
        "**Pets:** Make several dictionaries, where each dictionary represents a different pet. In each dictionary, include the kind of animal and the owner’s name. Store these dictionaries in a list called `pets`. Next, loop through your list and as you do, print everything you know about each pet."
      ]
    },
    {
      "cell_type": "code",
      "execution_count": null,
      "metadata": {
        "id": "Hij_edgUjJzp",
        "colab": {
          "base_uri": "https://localhost:8080/"
        },
        "outputId": "b18c700d-e520-4baa-d031-8350e429317e"
      },
      "outputs": [
        {
          "output_type": "stream",
          "name": "stdout",
          "text": [
            "Name:  Skunk\n",
            "Type:  dog\n",
            "Age:  6\n",
            "Temperment:  cranky\n",
            "\n",
            "Name:  Bode\n",
            "Type:  dog\n",
            "Age:  4\n",
            "Temperment:  stupid\n",
            "\n",
            "Name:  Rocco Duke of the Basement\n",
            "Type:  cat\n",
            "Age:  13\n",
            "Temperment:  cranky and stupid\n",
            "\n"
          ]
        }
      ],
      "source": [
        "Skunk = {\n",
        "    \"Name\": \"Skunk\",\n",
        "    \"Type\":\"dog\",\n",
        "    \"Age\":\"6\",\n",
        "    \"Temperment\": \"cranky\",\n",
        "}\n",
        "Bohdi = {\n",
        "    \"Name\": \"Bode\",\n",
        "    \"Type\":\"dog\",\n",
        "    \"Age\":\"4\",\n",
        "    \"Temperment\": \"stupid\",\n",
        "}\n",
        "Rocco = {\n",
        "    \"Name\": \"Rocco Duke of the Basement\",\n",
        "    \"Type\":\"cat\",\n",
        "    \"Age\":\"13\",\n",
        "    \"Temperment\": \"cranky and stupid\",\n",
        "}\n",
        "pets = [Skunk, Bohdi, Rocco]\n",
        "for creature in pets:\n",
        "  print(\"Name: \", creature[\"Name\"])\n",
        "  print(\"Type: \", creature[\"Type\"])\n",
        "  print(\"Age: \", creature[\"Age\"])\n",
        "  print(\"Temperment: \", creature[\"Temperment\"])\n",
        "  print()"
      ]
    },
    {
      "cell_type": "markdown",
      "metadata": {
        "id": "OlpBteDQjJzq"
      },
      "source": [
        "## Question 9\n",
        "**Favorite Places:** Make a dictionary called `favorite_places`. Think of three names to use as keys in the dictionary, and store one to three favorite places for each person. To make this exercise a bit more interesting, ask some friends to name a few of their favorite places. Loop through the dictionary, and print each person’s name and their favorite places."
      ]
    },
    {
      "cell_type": "code",
      "execution_count": null,
      "metadata": {
        "id": "-bTGK5QzjJzq",
        "colab": {
          "base_uri": "https://localhost:8080/"
        },
        "outputId": "dcaecc43-2772-477c-936b-eac7b371f107"
      },
      "outputs": [
        {
          "output_type": "stream",
          "name": "stdout",
          "text": [
            "Rob's favorite places are: \n",
            "- Snow\n",
            "- Solitude\n",
            "- Sounders Games\n",
            "Will's favorite places are: \n",
            "- Solitude\n",
            "- Home\n",
            "- Reading\n",
            "JL's favorite places are: \n",
            "- Grand Canyon\n",
            "- Pacific Beach\n",
            "- Snow\n"
          ]
        }
      ],
      "source": [
        "favorite_places = {\n",
        "    \"Rob\": [\"Snow\", \"Solitude\", \"Sounders Games\"],\n",
        "    \"Will\":[\"Solitude\", \"Home\", \"Reading\"],\n",
        "    \"JL\":[\"Grand Canyon\", \"Pacific Beach\", \"Snow\"]\n",
        "}\n",
        "for dude, places in favorite_places.items():\n",
        "    print(f\"{dude}'s favorite places are: \")\n",
        "    for place in places:\n",
        "        print(f\"- {place}\")"
      ]
    },
    {
      "cell_type": "markdown",
      "metadata": {
        "id": "xNGVGc8JjJzq"
      },
      "source": [
        "## Question 10\n",
        "**Favorite Numbers:** Modify your program from Question 2 so each person can have more than one favorite number. Then print each person’s name along with their favorite numbers."
      ]
    },
    {
      "cell_type": "code",
      "execution_count": null,
      "metadata": {
        "id": "PyN3BT5pjJzq",
        "colab": {
          "base_uri": "https://localhost:8080/"
        },
        "outputId": "35f26a68-9bd5-47e0-a71d-f67afe9a5351"
      },
      "outputs": [
        {
          "output_type": "stream",
          "name": "stdout",
          "text": [
            "Borg's favorite numbers are: \n",
            "- 4\n",
            "- 4\n",
            "- 1\n",
            "Borg1's favorite numbers are: \n",
            "- 4\n",
            "- 4\n",
            "- 4\n",
            "Borg2's favorite numbers are: \n",
            "- 1\n",
            "- 4\n",
            "- 90\n",
            "- 13\n",
            "Borg4's favorite numbers are: \n",
            "- 7348\n",
            "- 4\n"
          ]
        }
      ],
      "source": [
        "Numb_Fav = {\n",
        "    \"Borg\": [\"4\", \"4\", \"1\"],\n",
        "    \"Borg1\":[\"4\", \"4\", \"4\"],\n",
        "    \"Borg2\":[\"1\", \"4\", \"90\", \"13\"],\n",
        "    \"Borg4\": [\"7348\", \"4\"]\n",
        "}\n",
        "for name, numbers in Numb_Fav.items():\n",
        "    print(f\"{name}'s favorite numbers are: \")\n",
        "    for num in numbers:\n",
        "        print(f\"- {num}\")\n"
      ]
    },
    {
      "cell_type": "markdown",
      "metadata": {
        "id": "eQHGKSPCjJzq"
      },
      "source": [
        "## Question 11\n",
        "**Cities:** Make a dictionary called `cities`. Use the names of three cities as keys in your dictionary. Create a dictionary of information about each city and include the country that the city is in, its approximate population, and one fact about that city. The keys for each city’s dictionary should be something like `country`, `population`, and `fact`. Print the name of each city and all of the information you have stored about it."
      ]
    },
    {
      "cell_type": "code",
      "execution_count": null,
      "metadata": {
        "id": "1eav89L8jJzq",
        "colab": {
          "base_uri": "https://localhost:8080/"
        },
        "outputId": "c4897111-7e6f-46aa-aa41-a16016ca353d"
      },
      "outputs": [
        {
          "output_type": "stream",
          "name": "stdout",
          "text": [
            "City: Milton Freewater\n",
            "State: Oregon\n",
            "Population: 7151\n",
            "Fun Fact: Almost more frog statues than people.\n",
            "\n",
            "City: Baker City\n",
            "State: Oregon\n",
            "Population: 10099\n",
            "Fun Fact: Has 3 bakeries and thats using the term loosely.\n",
            "\n",
            "City: Pendelton\n",
            "State: Oregon\n",
            "Population: 17107\n",
            "Fun Fact: Home of the rodeo The Pendelton Roundup which sees 50,000ppl attend each year\n",
            "\n"
          ]
        }
      ],
      "source": [
        "cities = {\n",
        "  \"Milton Freewater\": {\n",
        "    \"State\": \"Oregon\",\n",
        "    \"Pop\": \"7151\",\n",
        "    \"Fact\": \"Almost more frog statues than people.\"\n",
        "  },\n",
        "  \"Baker City\" : {\n",
        "    \"State\": \"Oregon\",\n",
        "    \"Pop\": \"10099\",\n",
        "    \"Fact\": \"Has 3 bakeries and thats using the term loosely.\"\n",
        "  },\n",
        "  \"Pendelton\" : {\n",
        "    \"State\": \"Oregon\",\n",
        "    \"Pop\": \"17107\",\n",
        "    \"Fact\": \"Home of the rodeo The Pendelton Roundup which sees 50,000ppl attend each year\"\n",
        "  },\n",
        "}\n",
        "for city, stats in cities.items():\n",
        "  print(f\"City: {city}\")\n",
        "  print(f\"State: {stats['State']}\")\n",
        "  print(f\"Population: {stats['Pop']}\")\n",
        "  print(f\"Fun Fact: {stats['Fact']}\")\n",
        "  print()"
      ]
    },
    {
      "cell_type": "markdown",
      "metadata": {
        "id": "CmPqeGUojJzr"
      },
      "source": [
        "## Question 12\n",
        "**Extensions:** We’re now working with examples that are complex enough that they can be extended in any number of ways. Use one of the example programs from this chapter, and extend it by adding new keys and values, changing the context of the program or improving the formatting of the output."
      ]
    },
    {
      "cell_type": "code",
      "execution_count": null,
      "metadata": {
        "id": "YWdD_O69jJzr",
        "colab": {
          "base_uri": "https://localhost:8080/"
        },
        "outputId": "77e3d688-f5fa-47bb-c674-af09d8694364"
      },
      "outputs": [
        {
          "output_type": "stream",
          "name": "stdout",
          "text": [
            "City: Milton Freewater\n",
            "State: Oregon\n",
            "Population: 7151\n",
            "Fun Fact: Almost more frog statues than people.\n",
            "\n",
            "City: Baker City\n",
            "State: Oregon\n",
            "Population: 10099\n",
            "Fun Fact: Has 3 bakeries and thats using the term loosely.\n",
            "\n",
            "City: Pendelton\n",
            "State: Oregon\n",
            "Population: 17107\n",
            "Fun Fact: Home of the rodeo The Pendelton Roundup which sees 50,000ppl attend each year\n",
            "\n",
            "City: Milton Freewater\n",
            "State: Oregon\n",
            "Population: 7151\n",
            "Fun Fact: Almost more frog statues than people.\n",
            "\n",
            "City: Baker City\n",
            "State: Oregon\n",
            "Population: 10099\n",
            "Fun Fact: Has 3 bakeries and thats using the term loosely.\n",
            "\n",
            "City: Pendelton\n",
            "State: Oregon\n",
            "Population: 17107\n",
            "Fun Fact: Home of the rodeo The Pendelton Roundup which sees 50,000ppl attend each year\n",
            "\n",
            "City: Seattle\n",
            "State: Washington\n",
            "Population: 737,015\n",
            "Fun Fact: The original Seattle burned down in 1889. The current city is built ontop of it and you can take a tour of the underground ruins.\n",
            "\n"
          ]
        }
      ],
      "source": [
        "cities = {\n",
        "  \"Milton Freewater\": {\n",
        "    \"State\": \"Oregon\",\n",
        "    \"Pop\": \"7151\",\n",
        "    \"Fact\": \"Almost more frog statues than people.\"\n",
        "  },\n",
        "  \"Baker City\" : {\n",
        "    \"State\": \"Oregon\",\n",
        "    \"Pop\": \"10099\",\n",
        "    \"Fact\": \"Has 3 bakeries and thats using the term loosely.\"\n",
        "  },\n",
        "  \"Pendelton\" : {\n",
        "    \"State\": \"Oregon\",\n",
        "    \"Pop\": \"17107\",\n",
        "    \"Fact\": \"Home of the rodeo The Pendelton Roundup which sees 50,000ppl attend each year\"\n",
        "  },\n",
        "}\n",
        "for city, stats in cities.items():\n",
        "  print(f\"City: {city}\")\n",
        "  print(f\"State: {stats['State']}\")\n",
        "  print(f\"Population: {stats['Pop']}\")\n",
        "  print(f\"Fun Fact: {stats['Fact']}\")\n",
        "  print()\n",
        "\n",
        "#Append new sub dictionary to original dictionary\n",
        "Seattle_dict = {\n",
        "    \"State\": \"Washington\",\n",
        "    \"Pop\": \"737,015\",\n",
        "    \"Fact\": \"The original Seattle burned down in 1889. The current city is built ontop of it and you can take a tour of the underground ruins.\"\n",
        "}\n",
        "cities[\"Seattle\"] = Seattle_dict\n",
        "for city, stats in cities.items():\n",
        "  print(f\"City: {city}\")\n",
        "  print(f\"State: {stats['State']}\")\n",
        "  print(f\"Population: {stats['Pop']}\")\n",
        "  print(f\"Fun Fact: {stats['Fact']}\")\n",
        "  print()\n",
        "\n",
        "\n"
      ]
    },
    {
      "cell_type": "markdown",
      "metadata": {
        "id": "gjcNCC7BjJzr"
      },
      "source": [
        "## Question 13\n",
        "**Rental Car:** Write a program that asks the user what kind of rental car they would like. Print a message about that car, such as “Let me see if I can find you a Subaru.”"
      ]
    },
    {
      "cell_type": "code",
      "execution_count": null,
      "metadata": {
        "id": "u-RZWSrGjJzr",
        "colab": {
          "base_uri": "https://localhost:8080/"
        },
        "outputId": "cabb5934-eb0f-465b-aeec-7225d29b8866"
      },
      "outputs": [
        {
          "output_type": "stream",
          "name": "stdout",
          "text": [
            "Welcome to Shadie's Shady Chop Shop. Wut?harry potter\n",
            "We got nothing for you\n"
          ]
        }
      ],
      "source": [
        "CustomerDemands = input(\"Welcome to Shadie's Shady Chop Shop. Wut?\")\n",
        "if CustomerDemands.lower() == \"car\":\n",
        "  print(\"I got a subaru\")\n",
        "elif CustomerDemands.lower() == \"drugs\":\n",
        "  print(\"dont do drugs\")\n",
        "else:\n",
        "  print (\"We got nothing for you\")\n",
        "\n"
      ]
    },
    {
      "cell_type": "markdown",
      "metadata": {
        "id": "Rq5V-7FSjJzr"
      },
      "source": [
        "## Question 14\n",
        "**Restaurant Seating:** Write a program that asks the user how many people are in their dinner group. If the answer is more than eight, print a message saying they’ll have to wait for a table. Otherwise, report that their table is ready."
      ]
    },
    {
      "cell_type": "code",
      "execution_count": null,
      "metadata": {
        "id": "siT2kadhjJzr",
        "colab": {
          "base_uri": "https://localhost:8080/"
        },
        "outputId": "40df3a2b-9299-4698-e77d-2564d37f5e64"
      },
      "outputs": [
        {
          "output_type": "stream",
          "name": "stdout",
          "text": [
            "we have immediate accomodations for groups of less than 8. How many people in your table?8\n",
            "You will have to wait a minute or a lot depending how many more than 8 you are.\n"
          ]
        }
      ],
      "source": [
        "Host = int(input(\"we have immediate accomodations for groups of less than 8. How many people in your table?\"))\n",
        "if Host < 8:\n",
        "  print(\"We have immediate accomodations available.\")\n",
        "else:\n",
        "  print(\"You will have to wait a minute or a lot depending how many more than 8 you are.\")\n",
        "\n",
        "\n"
      ]
    },
    {
      "cell_type": "markdown",
      "metadata": {
        "id": "2cXImYofjJzr"
      },
      "source": [
        "## Question 15\n",
        "**Multiples of Ten:** Ask the user for a number, and then report whether the number is a multiple of 10 or not."
      ]
    },
    {
      "cell_type": "code",
      "execution_count": null,
      "metadata": {
        "id": "7LrBdKHdjJzs",
        "colab": {
          "base_uri": "https://localhost:8080/"
        },
        "outputId": "87497ed5-1d64-4d24-9a81-f380b6aba58a"
      },
      "outputs": [
        {
          "output_type": "stream",
          "name": "stdout",
          "text": [
            "give me a number and I'll tell you a boring fact.1000000\n",
            "1000000 is a multiple of 10\n"
          ]
        }
      ],
      "source": [
        "Num = int(input(\"give me a number and I'll tell you a boring fact.\"))\n",
        "if Num % 10 == 0:\n",
        "  print(f\"{Num} is a multiple of 10\")\n",
        "else:\n",
        "  print(f\"{Num} is no a multiple of 10\")"
      ]
    },
    {
      "cell_type": "markdown",
      "metadata": {
        "id": "vFcITx2RjJzs"
      },
      "source": [
        "## Question 16\n",
        "**Pizza Toppings:** Write a loop that prompts the user to enter a series of pizza toppings until they enter a 'quit' value. As they enter each topping, print a message saying you’ll add that topping to their pizza."
      ]
    },
    {
      "cell_type": "code",
      "execution_count": null,
      "metadata": {
        "id": "BnecjaX_jJzs",
        "colab": {
          "base_uri": "https://localhost:8080/"
        },
        "outputId": "95600af7-b0e1-4602-df30-b94fcb8dc32e"
      },
      "outputs": [
        {
          "output_type": "stream",
          "name": "stdout",
          "text": [
            "Give me you pizza topping request and type done to be done.cheese\n",
            "cheese done\n",
            "Give me you pizza topping request and type done to be done.done\n",
            "done done\n",
            "Done its goin on the pie.\n",
            "['cheese']\n"
          ]
        }
      ],
      "source": [
        "toppings = []\n",
        "\n",
        "while True:\n",
        "  order = input(\"Give me you pizza topping request and type done to be done.\")\n",
        "  print(f\"{order} done\")\n",
        "  if order.lower () == (\"done\"):\n",
        "    print(f\"Done its goin on the pie.\")\n",
        "    break\n",
        "  toppings.append(order)\n",
        "\n",
        "print(toppings)\n"
      ]
    },
    {
      "cell_type": "markdown",
      "metadata": {
        "id": "BsQ_IkXxjJzt"
      },
      "source": [
        "## Question 17\n",
        "**Movie Tickets:** A movie theater charges different ticket prices depending on a person’s age. If a person is under the age of 3, the ticket is free; if they are between 3 and 12, the ticket is \\\\$10; and if they are over age 12, the ticket is $15. Write a loop in which you ask users their age, and then tell them the cost of their movie ticket."
      ]
    },
    {
      "cell_type": "code",
      "execution_count": null,
      "metadata": {
        "id": "dxgaGvrgjJzt",
        "colab": {
          "base_uri": "https://localhost:8080/"
        },
        "outputId": "62512597-456e-44d1-b4a8-b924e1735021"
      },
      "outputs": [
        {
          "output_type": "stream",
          "name": "stdout",
          "text": [
            "I have tickets you have an age. Give me your age and some money and I give you ticket.50\n",
            "Congrats you owe me $15. Heres a lolli and a ticket.\n"
          ]
        }
      ],
      "source": [
        "UserInput = int(input(\"I have tickets you have an age. Give me your age and some money and I give you ticket.\"))\n",
        "if UserInput < 3:\n",
        "  print(\"Congrats heres a lolli and a ticket\")\n",
        "elif UserInput >= 3 and UserInput<12:\n",
        "  print(\"Congrats you owe me $10.\")\n",
        "elif UserInput >= 12:\n",
        "  print(\"Congrats you owe me $15. Heres a lolli and a ticket.\")\n",
        "\n",
        "\n"
      ]
    },
    {
      "cell_type": "markdown",
      "metadata": {
        "id": "4ZoX7TKmjJzt"
      },
      "source": [
        "## Question 18\n",
        "**Three Exits:** Write different versions of either Question 16 or Question 17 that do each of the following at least once:\n",
        "\n",
        "* Use a conditional test in the while statement to stop the loop.\n",
        "* Use an active variable to control how long the loop runs.\n",
        "* Use a break statement to exit the loop when the user enters a 'quit' value."
      ]
    },
    {
      "cell_type": "markdown",
      "metadata": {
        "id": "L2LkP2uAjJzt"
      },
      "source": [
        "toppings = []\n",
        "drinks = []\n",
        "\n",
        "while True:\n",
        "  order = input(\"Give me your pizza topping request and type 'done' to be done.\")\n",
        "  print(f\"{order} done\")\n",
        "\n",
        "  if order.lower() == \"done\":\n",
        "    print(\"Done, it's going on the pie. Do you want any drinks? We have everything you want and no liquor laws.\")\n",
        "    break\n",
        "  toppings.append(order)\n",
        "\n",
        "while True:\n",
        "  order1 = input(\"What would you like to drink? \")\n",
        "  print(f\"We have {order1} in excess.\")\n",
        "  \n",
        "  exit = input(\"Anything else? Y/N\").lower()\n",
        "  if exit == \"n\":\n",
        "    break\n",
        "\n",
        "  drinks.append(order1)\n",
        "\n",
        "print(\"Pizza toppings are: \")\n",
        "print(', '.join(toppings))\n",
        "\n",
        "print(\"Drinks are: \")\n",
        "print(\", \".join(drinks))"
      ]
    },
    {
      "cell_type": "markdown",
      "metadata": {
        "id": "AH5ahVaijJzt"
      },
      "source": [
        "## Question 19\n",
        "**Deli:** Make a list called `sandwich_orders` and fill it with the names of various sandwiches. Then make an empty list called `finished_sandwiches`. Loop through the list of sandwich orders and print a message for each order, such as `I made your tuna sandwich`. As each sandwich is made, move it to the list of finished sandwiches. After all the sandwiches have been made, print a message listing each sandwich that was made."
      ]
    },
    {
      "cell_type": "code",
      "execution_count": null,
      "metadata": {
        "id": "m74VumFqjJzt",
        "colab": {
          "base_uri": "https://localhost:8080/"
        },
        "outputId": "b477b427-9304-4950-ece3-f6643a8e2a1b"
      },
      "outputs": [
        {
          "output_type": "stream",
          "name": "stdout",
          "text": [
            "Im making your turkey\n",
            "Im making your tuna\n",
            "Im making your reuben\n",
            "Im making your cuban\n",
            "Im making your Ham\n",
            "I have made these sandwiches: \n",
            "turkey sandwich and its probably got a hair in it.\n",
            "tuna sandwich and its probably got a hair in it.\n",
            "reuben sandwich and its probably got a hair in it.\n",
            "cuban sandwich and its probably got a hair in it.\n",
            "Ham sandwich and its probably got a hair in it.\n",
            "all done.\n"
          ]
        }
      ],
      "source": [
        "sandwich_orders = [\"Ham\", 'cuban', \"reuben\", \"tuna\", \"turkey\"]\n",
        "finished_sandwiches = []\n",
        "\n",
        "for order in sandwich_orders[:]:\n",
        "  current_order = sandwich_orders.pop()\n",
        "  print(f\"Im making your {current_order}\")\n",
        "  finished_sandwiches.append(current_order)\n",
        "\n",
        "print(f\"I have made these sandwiches: \")\n",
        "for sandwich in finished_sandwiches:\n",
        "  print(f\"{sandwich} sandwich and its probably got a hair in it.\")\n",
        "\n",
        "print(\"all done.\")\n"
      ]
    },
    {
      "cell_type": "markdown",
      "metadata": {
        "id": "74enypbBjJzu"
      },
      "source": [
        "## Question 20\n",
        "**No Pastrami:** Using the list `sandwich_orders` from Question 19, make sure the sandwich `pastrami` appears in the list at least three times. Add code near the beginning of your program to print a message saying the deli has run out of pastrami, and then use a `while` loop to remove all occurrences of `pastrami` from `sandwich_orders`. Make sure no pastrami sandwiches end up in `finished_sandwiches`."
      ]
    },
    {
      "cell_type": "code",
      "execution_count": null,
      "metadata": {
        "id": "WprNskdmjJzu",
        "colab": {
          "base_uri": "https://localhost:8080/"
        },
        "outputId": "bc14cfee-d396-461d-f8e2-f6b1c4c2182a"
      },
      "outputs": [
        {
          "output_type": "stream",
          "name": "stdout",
          "text": [
            "The deli is out of pastrami.\n",
            "Im making your turkey\n",
            "Im making your tuna\n",
            "Im making your reuben\n",
            "Im making your cuban\n",
            "Im making your Ham\n",
            "I have made these sandwiches: \n",
            "turkey sandwich and its probably got a hair in it.\n",
            "tuna sandwich and its probably got a hair in it.\n",
            "reuben sandwich and its probably got a hair in it.\n",
            "cuban sandwich and its probably got a hair in it.\n",
            "Ham sandwich and its probably got a hair in it.\n",
            "all done.\n",
            "['turkey', 'tuna', 'reuben', 'cuban', 'Ham']\n"
          ]
        }
      ],
      "source": [
        "sandwich_orders = [\"Ham\",\"pastrami\", 'cuban', \"pastrami\", \"reuben\", \"tuna\", \"pastrami\", \"turkey\"]\n",
        "finished_sandwiches = []\n",
        "\n",
        "print(\"The deli is out of pastrami.\")\n",
        "while \"pastrami\"  in sandwich_orders:\n",
        "  sandwich_orders.remove(\"pastrami\")\n",
        "\n",
        "for order in sandwich_orders[:]:\n",
        "  current_order = sandwich_orders.pop()\n",
        "  print(f\"Im making your {current_order}\")\n",
        "  finished_sandwiches.append(current_order)\n",
        "\n",
        "print(f\"I have made these sandwiches: \")\n",
        "for sandwich in finished_sandwiches:\n",
        "  print(f\"{sandwich} sandwich and its probably got a hair in it.\")\n",
        "\n",
        "print(\"all done.\")\n",
        "print(finished_sandwiches)"
      ]
    },
    {
      "cell_type": "markdown",
      "metadata": {
        "id": "KihI42wbjJzu"
      },
      "source": [
        "## Question 21\n",
        "**Dream Vacation:** Write a program that polls users about their dream vacation. Write a prompt similar to *If you could visit one place in the world, where would you go?* Include a block of code that prints the results of the poll."
      ]
    },
    {
      "cell_type": "code",
      "execution_count": null,
      "metadata": {
        "id": "M--fb7oUjJzu",
        "colab": {
          "base_uri": "https://localhost:8080/"
        },
        "outputId": "0acf72ac-54ac-4ad9-f0cd-0b63d5999e77"
      },
      "outputs": [
        {
          "output_type": "stream",
          "name": "stdout",
          "text": [
            "What is your dream vacation destination?idaho\n",
            "Do you have too many dream destinations and want to enter another? Y/N y\n",
            "What is your dream vacation destination?idaho\n",
            "Do you have too many dream destinations and want to enter another? Y/N y\n",
            "What is your dream vacation destination?barbados\n",
            "Do you have too many dream destinations and want to enter another? Y/N y\n",
            "What is your dream vacation destination?tillamook\n",
            "Do you have too many dream destinations and want to enter another? Y/N y\n",
            "What is your dream vacation destination?idaho\n",
            "Do you have too many dream destinations and want to enter another? Y/N n\n",
            "idaho: 3 votes\n",
            "barbados: 1 votes\n",
            "tillamook: 1 votes\n"
          ]
        }
      ],
      "source": [
        "user_vacations = {}\n",
        "prompt = \"What is your dream vacation destination?\"\n",
        "\n",
        "while True:\n",
        "  response = input(prompt)\n",
        "  user_vacations[response] = user_vacations.get(response,0) +1\n",
        "\n",
        "  another_response = input(\"Do you have too many dream destinations and want to enter another? Y/N \")\n",
        "  if another_response.lower() != \"y\":\n",
        "    break\n",
        "\n",
        "for place, count in user_vacations.items():\n",
        "  print(f\"{place}: {count} votes\")"
      ]
    }
  ],
  "metadata": {
    "kernelspec": {
      "display_name": "Python 3 (ipykernel)",
      "language": "python",
      "name": "python3"
    },
    "language_info": {
      "codemirror_mode": {
        "name": "ipython",
        "version": 3
      },
      "file_extension": ".py",
      "mimetype": "text/x-python",
      "name": "python",
      "nbconvert_exporter": "python",
      "pygments_lexer": "ipython3",
      "version": "3.8.10"
    },
    "colab": {
      "provenance": [],
      "include_colab_link": true
    }
  },
  "nbformat": 4,
  "nbformat_minor": 0
}
