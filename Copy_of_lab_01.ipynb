{
  "cells": [
    {
      "cell_type": "markdown",
      "metadata": {
        "id": "view-in-github",
        "colab_type": "text"
      },
      "source": [
        "<a href=\"https://colab.research.google.com/github/phillil8/py512/blob/Initial/Copy_of_lab_01.ipynb\" target=\"_parent\"><img src=\"https://colab.research.google.com/assets/colab-badge.svg\" alt=\"Open In Colab\"/></a>"
      ]
    },
    {
      "cell_type": "markdown",
      "metadata": {
        "id": "QeQHrpquqeuo"
      },
      "source": [
        "[![image](https://colab.research.google.com/assets/colab-badge.svg)](https://colab.research.google.com/github/giswqs/geog-312/blob/master/labs/lab_01.ipynb)\n",
        "[![image](https://binder.pangeo.io/badge_logo.svg)](https://gishub.org/geog312-pangeo)"
      ]
    },
    {
      "cell_type": "code",
      "execution_count": null,
      "metadata": {
        "id": "_sMOJQeuqeuu"
      },
      "outputs": [],
      "source": [
        "from datetime import datetime\n",
        "\n",
        "now = datetime.now()\n",
        "print(f\"Submitted time: {now}\")"
      ]
    },
    {
      "cell_type": "markdown",
      "metadata": {
        "id": "D2Dmey03qeuw"
      },
      "source": [
        "## Question 1\n",
        "\n",
        "**Simple Message:** Assign a message to a variable, and then print that message."
      ]
    },
    {
      "cell_type": "code",
      "execution_count": null,
      "metadata": {
        "colab": {
          "base_uri": "https://localhost:8080/"
        },
        "id": "Z0L4S25fqeux",
        "outputId": "50955d86-69f9-4fd6-e120-198631959d04"
      },
      "outputs": [
        {
          "output_type": "stream",
          "name": "stdout",
          "text": [
            "Whats up\n"
          ]
        }
      ],
      "source": [
        "Salutations = \"Whats up\"\n",
        "print(Salutations)\n"
      ]
    },
    {
      "cell_type": "markdown",
      "metadata": {
        "id": "PDKAMqjsqeux"
      },
      "source": [
        "## Question 2\n",
        "**Simple Messages:** Assign a message to a variable, and print that message. Then change the value of the variable to a new message, and print the new message."
      ]
    },
    {
      "cell_type": "code",
      "execution_count": null,
      "metadata": {
        "colab": {
          "base_uri": "https://localhost:8080/"
        },
        "id": "aiwodCkFqeuy",
        "outputId": "e4863d90-cf97-48be-8886-55aac41368e0"
      },
      "outputs": [
        {
          "output_type": "stream",
          "name": "stdout",
          "text": [
            "Whats up\n",
            "You again?\n"
          ]
        }
      ],
      "source": [
        "Salutations = \"Whats up\"\n",
        "print(Salutations)\n",
        "Salutations = \"You again?\"\n",
        "print (Salutations)\n"
      ]
    },
    {
      "cell_type": "markdown",
      "metadata": {
        "id": "cm8mq4MEqeuy"
      },
      "source": [
        "## Question 3\n",
        "**Personal Message:** Use a variable to represent a person’s name, and print a message to that person. Your message should be simple, such as, “Hello Eric, would you like to learn some Python today?”"
      ]
    },
    {
      "cell_type": "code",
      "execution_count": null,
      "metadata": {
        "colab": {
          "base_uri": "https://localhost:8080/"
        },
        "id": "wLyIxqlZqeuz",
        "outputId": "bb714f39-9dd0-457f-f51c-86f452600f17"
      },
      "outputs": [
        {
          "output_type": "stream",
          "name": "stdout",
          "text": [
            "Hello, Boris have you commited any crimes today?\n"
          ]
        }
      ],
      "source": [
        "Name = 'Boris'\n",
        "print (\"Hello, \" + Name + \" have you commited any crimes today?\")\n"
      ]
    },
    {
      "cell_type": "markdown",
      "metadata": {
        "id": "ZdWGkcVxqeu0"
      },
      "source": [
        "## Question 4\n",
        "**Name Cases:** Use a variable to represent a person’s name, and then print that person’s name in lowercase, uppercase, and title case."
      ]
    },
    {
      "cell_type": "code",
      "execution_count": null,
      "metadata": {
        "colab": {
          "base_uri": "https://localhost:8080/"
        },
        "id": "ML6yVbKLqeu0",
        "outputId": "71c0aaa2-c15c-40eb-b039-f4ca255537d4"
      },
      "outputs": [
        {
          "output_type": "stream",
          "name": "stdout",
          "text": [
            "Brohomio BROHOMIO brohomio\n"
          ]
        }
      ],
      "source": [
        "Name = \"Brohomio\"\n",
        "x = Name.capitalize()\n",
        "y = Name.upper()\n",
        "z = Name.lower()\n",
        "print(x,y,z)"
      ]
    },
    {
      "cell_type": "markdown",
      "metadata": {
        "id": "s4KRM7HZqeu1"
      },
      "source": [
        "## Question 5\n",
        "**Famous Quote:** Find a quote from a famous person you admire. Print the quote and the name of its author. Your output should look something like the following, including the quotation marks:\n",
        "```\n",
        "Albert Einstein once said, “A person who never made a mistake never tried anything new.”\n",
        "```"
      ]
    },
    {
      "cell_type": "code",
      "execution_count": null,
      "metadata": {
        "colab": {
          "base_uri": "https://localhost:8080/"
        },
        "id": "TVTlhwEoqeu1",
        "outputId": "771bc3e0-cb0b-4493-e23e-0e074028afe8"
      },
      "outputs": [
        {
          "output_type": "stream",
          "name": "stdout",
          "text": [
            "Conan Obrien once said, \"Scientists say they're getting closer to devloping a pill to replace exercising. Americans heard this and said that better come in cool ranch flavor.\"\n"
          ]
        }
      ],
      "source": [
        "Name = \"Conan Obrien\"\n",
        "Quote = \"Scientists say they're getting closer to devloping a pill to replace exercising. Americans heard this and said that better come in cool ranch flavor.\"\n",
        "print(Name + \" once said, \" + \"\\\"\" + Quote + \"\\\"\")\n"
      ]
    },
    {
      "cell_type": "markdown",
      "metadata": {
        "id": "5d7ofkBrqeu1"
      },
      "source": [
        "## Question 6\n",
        "**Famous Quote 2:** Repeat Exercise 2-5, but this time, represent the famous person’s name using a variable called famous_person. Then compose your message and represent it with a new variable called message. Print your\n",
        "message."
      ]
    },
    {
      "cell_type": "code",
      "execution_count": null,
      "metadata": {
        "colab": {
          "base_uri": "https://localhost:8080/"
        },
        "id": "aLWdOUTiqeu2",
        "outputId": "9911ccb0-6ef1-42bf-ec99-bb592a09e322"
      },
      "outputs": [
        {
          "output_type": "stream",
          "name": "stdout",
          "text": [
            "Conan Obrien once said, \"Scientists say they're getting closer to devloping a pill to replace exercising. Americans heard this and said that better come in cool ranch flavor.\"\n"
          ]
        }
      ],
      "source": [
        "famous_person = \"Conan Obrien\"\n",
        "sentence_fluff = \" once said, \"\n",
        "Quote = \"\\\"Scientists say they're getting closer to devloping a pill to replace exercising. Americans heard this and said that better come in cool ranch flavor.\\\"\"\n",
        "message = famous_person + sentence_fluff + Quote\n",
        "print(message)"
      ]
    },
    {
      "cell_type": "markdown",
      "metadata": {
        "id": "wVDnBpfXqeu2"
      },
      "source": [
        "## Question 7\n",
        "**Stripping Names:** Use a variable to represent a person’s name, and include some whitespace characters at the beginning and end of the name. Make sure you use each character combination, \"\\t\" and \"\\n\", at least once.\n",
        "Print the name once, so the whitespace around the name is displayed. Then print the name using each of the three stripping functions, lstrip(), rstrip(), and strip()."
      ]
    },
    {
      "cell_type": "code",
      "execution_count": null,
      "metadata": {
        "colab": {
          "base_uri": "https://localhost:8080/"
        },
        "id": "NgN5UXa5qeu2",
        "outputId": "769377b8-e2a6-4328-f6c4-86c4017ccf8c"
      },
      "outputs": [
        {
          "output_type": "stream",
          "name": "stdout",
          "text": [
            "Agnes Bongwater  \n",
            "  \t  Agnes Bongwater\n",
            "Agnes Bongwater\n"
          ]
        }
      ],
      "source": [
        "Name = \"  \\t  Agnes Bongwater  \"\n",
        "L = Name.lstrip()\n",
        "R = Name.rstrip()\n",
        "S = Name.strip()\n",
        "print(L +'\\n' + R +'\\n' + S)\n"
      ]
    },
    {
      "cell_type": "markdown",
      "source": [],
      "metadata": {
        "id": "8k9c9KyQdwMo"
      }
    },
    {
      "cell_type": "markdown",
      "metadata": {
        "id": "eueXEuwjqeu2"
      },
      "source": [
        "## Question 8\n",
        "**Number Eight:** Write addition, subtraction, multiplication, and division operations that each result in the number 8. Be sure to enclose your operations in print() calls to see the results. You should create four lines that look like this:\n",
        "\n",
        "```\n",
        "print(5 + 3)\n",
        "```\n",
        "Your output should simply be four lines with the number 8 appearing once on each line."
      ]
    },
    {
      "cell_type": "code",
      "execution_count": null,
      "metadata": {
        "id": "9mn_vjdvqeu3",
        "colab": {
          "base_uri": "https://localhost:8080/"
        },
        "outputId": "170659e7-6f33-49d0-c707-8238d7e2b9ef"
      },
      "outputs": [
        {
          "output_type": "stream",
          "name": "stdout",
          "text": [
            "8.0\n",
            "8.0\n",
            "8\n",
            "8.0\n"
          ]
        }
      ],
      "source": [
        "print(32*0.25)\n",
        "print(16/2)\n",
        "print(40016-40008)\n",
        "print(7.75+0.25)"
      ]
    },
    {
      "cell_type": "markdown",
      "metadata": {
        "id": "zRL-ywO0qeu3"
      },
      "source": [
        "## Question 9\n",
        "**Favorite Number:**  Use a variable to represent your favorite number. Then, using that variable, create a message that reveals your favorite number. Print that message."
      ]
    },
    {
      "cell_type": "code",
      "execution_count": null,
      "metadata": {
        "id": "-trcFc5Sqeu3",
        "colab": {
          "base_uri": "https://localhost:8080/"
        },
        "outputId": "c9f66a1b-53ba-4afa-ff3d-f2ee1c426573"
      },
      "outputs": [
        {
          "output_type": "stream",
          "name": "stdout",
          "text": [
            "The most reasonable and humblest digit is 13\n"
          ]
        }
      ],
      "source": [
        "CoolestDigit = 13\n",
        "\n",
        "print(\"The most reasonable and humblest digit is \" + str(CoolestDigit))\n"
      ]
    },
    {
      "cell_type": "markdown",
      "metadata": {
        "id": "IOI8v3Xbqeu3"
      },
      "source": [
        "## Question 10\n",
        "**Adding Comments:** Choose two of the programs you’ve written, and add at least one comment to each. If you don’t have anything specific to write because your programs are too simple at this point, just add your name and\n",
        "the current date at the top of each program file. Then write one sentence describing what the program does."
      ]
    },
    {
      "cell_type": "code",
      "execution_count": null,
      "metadata": {
        "id": "hmB0Bq0Dqeu4",
        "colab": {
          "base_uri": "https://localhost:8080/"
        },
        "outputId": "a521ea60-822c-45dc-a9f7-7a0d4948c26b"
      },
      "outputs": [
        {
          "output_type": "stream",
          "name": "stdout",
          "text": [
            "Agnes Bongwater  \n",
            "  \t  Agnes Bongwater\n",
            "Agnes Bongwater\n"
          ]
        }
      ],
      "source": [
        "Name = \"  \\t  Agnes Bongwater  \" #Agnes Bongwater was the leading female name for my sisters new child. She did not think of it, edorse it or use it but we were all hoping she would.\n",
        "L = Name.lstrip()                #Eddie Bongwater was the leading male name. She named him Jack. Big dissapointment.\n",
        "R = Name.rstrip()\n",
        "S = Name.strip()                 #.strip() should remove leading and trailing whitespace.\n",
        "print(L +'\\n' + R +'\\n' + S)     #'\\n' creates a new line"
      ]
    }
  ],
  "metadata": {
    "hide_input": false,
    "kernelspec": {
      "display_name": "Python 3 (ipykernel)",
      "language": "python",
      "name": "python3"
    },
    "language_info": {
      "codemirror_mode": {
        "name": "ipython",
        "version": 3
      },
      "file_extension": ".py",
      "mimetype": "text/x-python",
      "name": "python",
      "nbconvert_exporter": "python",
      "pygments_lexer": "ipython3",
      "version": "3.8.10"
    },
    "toc": {
      "base_numbering": 1,
      "nav_menu": {},
      "number_sections": true,
      "sideBar": true,
      "skip_h1_title": false,
      "title_cell": "Table of Contents",
      "title_sidebar": "Contents",
      "toc_cell": false,
      "toc_position": {},
      "toc_section_display": true,
      "toc_window_display": false
    },
    "varInspector": {
      "cols": {
        "lenName": 16,
        "lenType": 16,
        "lenVar": 40
      },
      "kernels_config": {
        "python": {
          "delete_cmd_postfix": "",
          "delete_cmd_prefix": "del ",
          "library": "var_list.py",
          "varRefreshCmd": "print(var_dic_list())"
        },
        "r": {
          "delete_cmd_postfix": ") ",
          "delete_cmd_prefix": "rm(",
          "library": "var_list.r",
          "varRefreshCmd": "cat(var_dic_list()) "
        }
      },
      "types_to_exclude": [
        "module",
        "function",
        "builtin_function_or_method",
        "instance",
        "_Feature"
      ],
      "window_display": false
    },
    "colab": {
      "provenance": [],
      "toc_visible": true,
      "include_colab_link": true
    }
  },
  "nbformat": 4,
  "nbformat_minor": 0
}