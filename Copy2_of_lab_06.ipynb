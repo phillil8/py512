{
  "cells": [
    {
      "cell_type": "markdown",
      "metadata": {
        "id": "view-in-github",
        "colab_type": "text"
      },
      "source": [
        "<a href=\"https://colab.research.google.com/github/phillil8/py512/blob/Initial/Copy2_of_lab_06.ipynb\" target=\"_parent\"><img src=\"https://colab.research.google.com/assets/colab-badge.svg\" alt=\"Open In Colab\"/></a>"
      ]
    },
    {
      "cell_type": "markdown",
      "metadata": {
        "id": "f_OXgfLjjOie"
      },
      "source": [
        "[![image](https://colab.research.google.com/assets/colab-badge.svg)](https://colab.research.google.com/github/giswqs/geog-312/blob/master/labs/lab_06.ipynb)\n",
        "[![image](https://binder.pangeo.io/badge_logo.svg)](https://gishub.org/geog312-pangeo)\n",
        "\n",
        "**Firstname Lastname**"
      ]
    },
    {
      "cell_type": "code",
      "execution_count": null,
      "metadata": {
        "id": "RSofT7LhjOig"
      },
      "outputs": [],
      "source": [
        "from datetime import datetime\n",
        "\n",
        "now = datetime.now()\n",
        "print(f\"Submitted time: {now}\")"
      ]
    },
    {
      "cell_type": "markdown",
      "metadata": {
        "id": "ojUTdgLJjOig"
      },
      "source": [
        "## Question 1\n",
        "**Message:** Write a function called `display_message()` that prints one sentence telling everyone what you are learning about in this chapter. Call the function, and make sure the message displays correctly."
      ]
    },
    {
      "cell_type": "code",
      "execution_count": null,
      "metadata": {
        "id": "l04WVM5YjOih",
        "colab": {
          "base_uri": "https://localhost:8080/"
        },
        "outputId": "2550d147-d4d4-4059-a1ca-4a616e99ae65"
      },
      "outputs": [
        {
          "output_type": "stream",
          "name": "stdout",
          "text": [
            "We are learning about snakes and functions.\n"
          ]
        }
      ],
      "source": [
        "def display_message():\n",
        "    message = \"We are learning about snakes and functions.\"\n",
        "    print(message)\n",
        "display_message()\n"
      ]
    },
    {
      "cell_type": "markdown",
      "metadata": {
        "id": "4T_TYp7kjOih"
      },
      "source": [
        "## Question 2\n",
        "**Favorite Book:** Write a function called `favorite_book()` that accepts one parameter, title. The function should print a message, such as `One of my favorite books is Alice in Wonderland`. Call the function, making sure to include a book title as an argument in the function call."
      ]
    },
    {
      "cell_type": "code",
      "execution_count": null,
      "metadata": {
        "id": "pgbfYeo2jOih",
        "colab": {
          "base_uri": "https://localhost:8080/"
        },
        "outputId": "70be27e7-b307-4985-d883-d5ddd1b82c23"
      },
      "outputs": [
        {
          "output_type": "stream",
          "name": "stdout",
          "text": [
            "One of my favorite books is The Hail Mary Project.\n"
          ]
        }
      ],
      "source": [
        "def favorite_book(book):\n",
        "  message = f\"One of my favorite books is {book}.\"\n",
        "  print(message)\n",
        "favorite_book(\"The Hail Mary Project\")"
      ]
    },
    {
      "cell_type": "markdown",
      "metadata": {
        "id": "xIskZGhdjOih"
      },
      "source": [
        "## Question 3\n",
        "**T-Shirt:** Write a function called `make_shirt()` that accepts a size and the text of a message that should be printed on the shirt. The function should print a sentence summarizing the size of the shirt and the message printed on it.\n",
        "\n",
        "Call the function once using positional arguments to make a shirt. Call the function a second time using keyword arguments."
      ]
    },
    {
      "cell_type": "code",
      "execution_count": null,
      "metadata": {
        "id": "W4zlw-7KjOii",
        "colab": {
          "base_uri": "https://localhost:8080/"
        },
        "outputId": "ed62d575-b6f0-43d8-f896-b2ebdaf0d96d"
      },
      "outputs": [
        {
          "output_type": "stream",
          "name": "stdout",
          "text": [
            "You ordered a size 'Large' with text that says 'This shirt is for the H8rz'\n",
            "You ordered a size 'medium' with text that says 'Boogers are not dog treats.'\n"
          ]
        }
      ],
      "source": [
        "def make_shirt(Size, Text):\n",
        "  print(f\"You ordered a size {Size} with text that says {Text}\")\n",
        "make_shirt(\"'Large'\", \"'This shirt is for the H8rz'\")\n",
        "make_shirt(Size = \"'medium'\", Text = \"'Boogers are not dog treats.'\")"
      ]
    },
    {
      "cell_type": "markdown",
      "metadata": {
        "id": "JlBmY5-WjOij"
      },
      "source": [
        "## Question 4\n",
        "**Large Shirts:** Modify the `make_shirt()` function so that shirts are large by default with a message that reads *I love Python*. Make a large shirt and a medium shirt with the default message, and a shirt of any size with a different message."
      ]
    },
    {
      "cell_type": "code",
      "execution_count": null,
      "metadata": {
        "id": "ZYkErNeNjOik",
        "colab": {
          "base_uri": "https://localhost:8080/"
        },
        "outputId": "1908f2e8-9b3a-4eaa-c379-f8f77344b164"
      },
      "outputs": [
        {
          "output_type": "stream",
          "name": "stdout",
          "text": [
            "You ordered a size 'Large' with text that says 'I love Python'\n",
            "You ordered a size 'Medium' with text that says 'I love Python'\n",
            "You ordered a size 'Small' with text that says 'I love snakes.'\n"
          ]
        }
      ],
      "source": [
        "def make_shirt(Size=\"Large\", Text=\"I love Python\"):\n",
        "  print(f\"You ordered a size '{Size}' with text that says '{Text}'\")\n",
        "make_shirt()\n",
        "make_shirt(\"Medium\")\n",
        "make_shirt(\"Small\", \"I love snakes.\")"
      ]
    },
    {
      "cell_type": "markdown",
      "metadata": {
        "id": "ntBFX1tljOik"
      },
      "source": [
        "## Question 5\n",
        "**Cities:** Write a function called `describe_city()` that accepts the name of a city and its country. The function should print a simple sentence, such as `Reykjavik is in Iceland`. Give the parameter for the country a default value. Call your function for three different cities, at least one of which is not in the default country."
      ]
    },
    {
      "cell_type": "code",
      "execution_count": null,
      "metadata": {
        "id": "W_tcGBKmjOik",
        "colab": {
          "base_uri": "https://localhost:8080/"
        },
        "outputId": "57f0623d-7491-4463-cb88-fede3a1f4a31"
      },
      "outputs": [
        {
          "output_type": "stream",
          "name": "stdout",
          "text": [
            "Buenos Aire is a place in Argentina\n",
            "Salta is a place in Argentina\n",
            "Los Angeles is a place in Argentina\n"
          ]
        }
      ],
      "source": [
        "def describe_city(City, Country = \"Argentina\"):\n",
        "  print(f\"{City} is a place in {Country}\")\n",
        "describe_city(\"Buenos Aire\")\n",
        "describe_city(\"Salta\")\n",
        "describe_city(\"Los Angeles\")"
      ]
    },
    {
      "cell_type": "markdown",
      "metadata": {
        "id": "SF3N8IOPjOik"
      },
      "source": [
        "## Question 6\n",
        "**City Names:** Write a function called `city_country()` that takes in the name of a city and its country. The function should return a string formatted like this:\n",
        "```\n",
        "Santiago, Chile\n",
        "```\n",
        "Call your function with at least three city-country pairs, and print the values that are returned."
      ]
    },
    {
      "cell_type": "code",
      "execution_count": null,
      "metadata": {
        "id": "IvUkaX4tjOil",
        "colab": {
          "base_uri": "https://localhost:8080/"
        },
        "outputId": "1920a3e0-50f2-409b-d136-88f524238553"
      },
      "outputs": [
        {
          "output_type": "stream",
          "name": "stdout",
          "text": [
            "Warsaw, Poland\n",
            "Shit, Iran\n",
            "Booger Hole, West Virginia\n"
          ]
        }
      ],
      "source": [
        "def city_country(City,Country):\n",
        "  print(f\"{City}, {Country}\")\n",
        "city_country(\"Warsaw\", \"Poland\")\n",
        "city_country(\"Shit\", \"Iran\")\n",
        "city_country(\"Booger Hole\", \"West Virginia\")"
      ]
    },
    {
      "cell_type": "markdown",
      "metadata": {
        "id": "mZrmp6pwjOil"
      },
      "source": [
        "## Question 7\n",
        "**Album:** Write a function called `make_album()` that builds a dictionary describing a music album. The function should take in an artist name and an album title, and it should return a dictionary containing these two pieces of information. Use the function to make three dictionaries representing different albums. Print each return value to show that the dictionaries are storing the album information correctly.\n",
        "\n",
        "Use None to add an optional parameter to make_album() that allows you to store the number of songs on an album. If the calling line includes a value for the number of songs, add that value to the album’s dictionary. Make at least one new function call that includes the number of songs on an album."
      ]
    },
    {
      "cell_type": "code",
      "execution_count": null,
      "metadata": {
        "id": "iYM364fUjOil",
        "colab": {
          "base_uri": "https://localhost:8080/"
        },
        "outputId": "8bee394a-7bab-4627-c048-d1b30c4ac165"
      },
      "outputs": [
        {
          "output_type": "stream",
          "name": "stdout",
          "text": [
            "{'Title': 'Total Life Forever', 'Artist': 'Foals', 'Tracks': 12}\n",
            "{'Title': 'BOOMIVERSE', 'Artist': 'Big Boi', 'Tracks': 12}\n",
            "{'Title': 'Punching In a Dream', 'Artist': 'The Naked and Famous'}\n"
          ]
        }
      ],
      "source": [
        "def make_album(Artist, Title, Tracks=None):\n",
        "  album = {\n",
        "      'Title': Title,\n",
        "      'Artist': Artist\n",
        "  }\n",
        "  if Tracks is not None:\n",
        "    album['Tracks']= Tracks\n",
        "  return album\n",
        "\n",
        "A1= make_album(\"Foals\", \"Total Life Forever\", 12)\n",
        "A2 = make_album(\"The Naked and Famous\", \"Punching In a Dream\")\n",
        "A3 = make_album(\"Big Boi\", \"BOOMIVERSE\", 12)\n",
        "\n",
        "print(A1)\n",
        "print(A3)\n",
        "print(A2)"
      ]
    },
    {
      "cell_type": "markdown",
      "metadata": {
        "id": "FejkVV1NjOim"
      },
      "source": [
        "## Question 8\n",
        "**User Albums:** Start with your program from Question 7. Write a `while` loop that allows users to enter an album’s artist and title. Once you have that information, call `make_album()` with the user’s input and print the dictionary that’s created. Be sure to include a quit value in the `while` loop."
      ]
    },
    {
      "cell_type": "code",
      "execution_count": 5,
      "metadata": {
        "id": "_PsMpjKojOim",
        "colab": {
          "base_uri": "https://localhost:8080/"
        },
        "outputId": "d1ce3aff-4e0a-495a-8480-6d9ae70033b1"
      },
      "outputs": [
        {
          "output_type": "stream",
          "name": "stdout",
          "text": [
            "\n",
            "Enter album information. Enter 'q' to quit.\n",
            "Enter album title: Holy Fire\n",
            "Enter artist name: Foals\n",
            "Enter album track count(optional): 12\n",
            "\n",
            "Enter album information. Enter 'q' to quit.\n",
            "Enter album title: Boomiverse\n",
            "Enter artist name: Big Boi\n",
            "Enter album track count(optional): \n",
            "\n",
            "Enter album information. Enter 'q' to quit.\n",
            "Enter album title: q\n",
            "{'Title': 'Foals', 'Artist': 'Holy Fire', 'Tracks': '12'}\n",
            "{'Title': 'Big Boi', 'Artist': 'Boomiverse', 'Tracks': ''}\n"
          ]
        }
      ],
      "source": [
        "def make_album(Artist, Title, Tracks=None):\n",
        "  album = {\n",
        "      'Title': Title,\n",
        "      'Artist': Artist\n",
        "  }\n",
        "  if Tracks is not None:\n",
        "    album['Tracks']= Tracks\n",
        "  return album\n",
        "\n",
        "albums = []\n",
        "\n",
        "while True:\n",
        "  print(\"\\nEnter album information. Enter 'q' to quit.\")\n",
        "  Title = input(\"Enter album title: \")\n",
        "  if Title.lower()=='q':\n",
        "    break\n",
        "  Artist = input(\"Enter artist name: \")\n",
        "  if Artist.lower()=='q':\n",
        "    break\n",
        "  Tracks = input(\"Enter album track count(optional): \")\n",
        "  if Tracks.lower()=='q':\n",
        "    break\n",
        "\n",
        "  albums.append(make_album(Title, Artist, Tracks))\n",
        "\n",
        "for album in albums:\n",
        "  print(album)\n"
      ]
    },
    {
      "cell_type": "markdown",
      "metadata": {
        "id": "eqAQXBuzjOim"
      },
      "source": [
        "## Question 9\n",
        "**Messages:** Make a list containing a series of short text messages. Pass the list to a function called `show_messages()`, which prints each text message."
      ]
    },
    {
      "cell_type": "code",
      "execution_count": 10,
      "metadata": {
        "id": "Y8Fe1238jOin",
        "colab": {
          "base_uri": "https://localhost:8080/"
        },
        "outputId": "37284884-0bec-4bd9-f260-5c882b72662e"
      },
      "outputs": [
        {
          "output_type": "stream",
          "name": "stdout",
          "text": [
            "Tell me you secrets or press 'q' to quit.i never quit\n",
            "Tell me you secrets or press 'q' to quit.ever\n",
            "Tell me you secrets or press 'q' to quit.ever\n",
            "Tell me you secrets or press 'q' to quit.ever\n",
            "Tell me you secrets or press 'q' to quit.ever\n",
            "Tell me you secrets or press 'q' to quit.ever\n",
            "Tell me you secrets or press 'q' to quit.\n",
            "Tell me you secrets or press 'q' to quit.\n",
            "Tell me you secrets or press 'q' to quit.\n",
            "Tell me you secrets or press 'q' to quit.never\n",
            "Tell me you secrets or press 'q' to quit.ever\n",
            "Tell me you secrets or press 'q' to quit.ever\n",
            "Tell me you secrets or press 'q' to quit.nerver\n",
            "Tell me you secrets or press 'q' to quit.q\n",
            "Your darkest secrets are: i never quit\n",
            "Your darkest secrets are: ever\n",
            "Your darkest secrets are: ever\n",
            "Your darkest secrets are: ever\n",
            "Your darkest secrets are: ever\n",
            "Your darkest secrets are: ever\n",
            "Your darkest secrets are: \n",
            "Your darkest secrets are: \n",
            "Your darkest secrets are: \n",
            "Your darkest secrets are: never\n",
            "Your darkest secrets are: ever\n",
            "Your darkest secrets are: ever\n",
            "Your darkest secrets are: nerver\n"
          ]
        }
      ],
      "source": [
        "def show_messages(messages):\n",
        "  for message in messages:\n",
        "    print(\"Your darkest secrets are: \" + message)\n",
        "\n",
        "messages = []\n",
        "\n",
        "while True:\n",
        "  notes = input(\"Tell me you secrets or press 'q' to quit.\")\n",
        "  if notes.lower()== 'q':\n",
        "    break\n",
        "  messages.append(notes)\n",
        "\n",
        "show_messages(messages)\n"
      ]
    },
    {
      "cell_type": "markdown",
      "metadata": {
        "id": "NkYn9HfhjOin"
      },
      "source": [
        "## Question 10\n",
        "**Sending Messages:** Start with a copy of your program from Question 9. Write a function called `send_messages()` that prints each text message and moves each message to a new list called `sent_messages` as it’s printed. After calling the function, print both of your lists to make sure the messages were moved correctly."
      ]
    },
    {
      "cell_type": "code",
      "execution_count": 15,
      "metadata": {
        "id": "BW4SdEHEjOin",
        "colab": {
          "base_uri": "https://localhost:8080/"
        },
        "outputId": "0730154b-b6ad-424e-fd6a-e0c66ab19cbd"
      },
      "outputs": [
        {
          "output_type": "stream",
          "name": "stdout",
          "text": [
            "Tell me you secrets or press 'q' to quit.i like blueberries\n",
            "Tell me you secrets or press 'q' to quit.i like ice cream\n",
            "Tell me you secrets or press 'q' to quit.i also like corn nuts\n",
            "Tell me you secrets or press 'q' to quit.q\n",
            "Sending message: i like blueberries\n",
            "Sending message: i like ice cream\n",
            "Sending message: i also like corn nuts\n",
            "['i like blueberries', 'i like ice cream', 'i also like corn nuts']\n",
            "[]\n"
          ]
        }
      ],
      "source": [
        "def send_messages(messages, sent_messages):\n",
        "  while messages:\n",
        "    current_message = messages.pop(0)\n",
        "    print(f\"Sending message: {current_message}\")\n",
        "    sent_messages.append(current_message)\n",
        "\n",
        "sent_messages = []\n",
        "messages = []\n",
        "\n",
        "while True:\n",
        "  notes = input(\"Tell me you secrets or press 'q' to quit.\")\n",
        "  if notes.lower()== 'q':\n",
        "    break\n",
        "  messages.append(notes)\n",
        "\n",
        "send_messages(messages, sent_messages)\n",
        "\n",
        "print(sent_messages)\n",
        "print(messages)"
      ]
    },
    {
      "cell_type": "markdown",
      "metadata": {
        "id": "tb5_6jO3jOin"
      },
      "source": [
        "## Question 11\n",
        "**Archived Messages:** Start with your work from Question 10. Call the function `send_messages()` with a copy of the list of messages. After calling the function, print both of your lists to show that the original list has retained its messages."
      ]
    },
    {
      "cell_type": "code",
      "execution_count": 16,
      "metadata": {
        "id": "03TLfn1JjOin",
        "colab": {
          "base_uri": "https://localhost:8080/"
        },
        "outputId": "dbcb6dd4-7881-4a39-a8f6-0acb0be7cf26"
      },
      "outputs": [
        {
          "output_type": "stream",
          "name": "stdout",
          "text": [
            "Tell me you secrets or press 'q' to quit.hello\n",
            "Tell me you secrets or press 'q' to quit.python\n",
            "Tell me you secrets or press 'q' to quit.fun\n",
            "Tell me you secrets or press 'q' to quit.labs\n",
            "Tell me you secrets or press 'q' to quit.q\n",
            "Sending message: hello\n",
            "Sending message: python\n",
            "Sending message: fun\n",
            "Sending message: labs\n",
            "['hello', 'python', 'fun', 'labs']\n",
            "['hello', 'python', 'fun', 'labs']\n"
          ]
        }
      ],
      "source": [
        "def send_messages(messages, sent_messages):\n",
        "  while messages:\n",
        "    current_message = messages.pop(0)\n",
        "    print(f\"Sending message: {current_message}\")\n",
        "    sent_messages.append(current_message)\n",
        "\n",
        "sent_messages = []\n",
        "messages = []\n",
        "\n",
        "while True:\n",
        "  notes = input(\"Tell me you secrets or press 'q' to quit.\")\n",
        "  if notes.lower()== 'q':\n",
        "    break\n",
        "  messages.append(notes)\n",
        "\n",
        "messages_copy = messages[:]\n",
        "\n",
        "\n",
        "send_messages(messages_copy, sent_messages)\n",
        "\n",
        "print(sent_messages)\n",
        "print(messages)"
      ]
    },
    {
      "cell_type": "markdown",
      "metadata": {
        "id": "t9oZ1mqHjOin"
      },
      "source": [
        "## Question 12\n",
        "**Sandwiches:** Write a function that accepts a list of items a person wants on a sandwich. The function should have one parameter that collects as many items as the function call provides, and it should print a summary of the sandwich that’s being ordered. Call the function three times, using a different number of arguments each time."
      ]
    },
    {
      "cell_type": "code",
      "execution_count": 10,
      "metadata": {
        "id": "otrFzTyRjOin",
        "colab": {
          "base_uri": "https://localhost:8080/"
        },
        "outputId": "8140301b-aa18-4138-bf97-9034aaf3c2a5"
      },
      "outputs": [
        {
          "output_type": "stream",
          "name": "stdout",
          "text": [
            "ham\n",
            "spam\n",
            "Sam\n",
            "toothpatse\n",
            "roast beef\n",
            "mayo\n",
            "bacon\n",
            "chicken\n"
          ]
        }
      ],
      "source": [
        "def sandwiches(*items):\n",
        "  for item in items:\n",
        "    print(item)\n",
        "\n",
        "sandwiches(\"ham\", \"spam\", \"Sam\")\n",
        "sandwiches(\"toothpatse\")\n",
        "sandwiches(\"roast beef\", \"mayo\", \"bacon\", \"chicken\")"
      ]
    },
    {
      "cell_type": "markdown",
      "metadata": {
        "id": "85Zzd3oyjOin"
      },
      "source": [
        "## Question 13\n",
        "**Cars:** Write a function that stores information about a car in a dictionary. The function should always receive a manufacturer and a model name. It should then accept an arbitrary number of keyword arguments. Call the function with the required information and two other name-value pairs, such as a color or an optional feature. Your function should work for a call like this one:\n",
        "```\n",
        "car = make_car('subaru', 'outback', color='blue', tow_package=True)\n",
        "```\n",
        "Print the dictionary that’s returned to make sure all the information was stored correctly."
      ]
    },
    {
      "cell_type": "code",
      "execution_count": 15,
      "metadata": {
        "id": "k4qfoyZsjOin",
        "colab": {
          "base_uri": "https://localhost:8080/"
        },
        "outputId": "69f4a2ce-51ba-48bb-ebaf-51f550699b31"
      },
      "outputs": [
        {
          "output_type": "execute_result",
          "data": {
            "text/plain": [
              "{'manufacturer': 'subaru',\n",
              " 'model': 'outback',\n",
              " 'color': 'green',\n",
              " 'engine': 'small',\n",
              " 'sunroof': True}"
            ]
          },
          "metadata": {},
          "execution_count": 15
        }
      ],
      "source": [
        "def make_car(manufacturer, model, **car_info):\n",
        "  car = {\n",
        "      'manufacturer': manufacturer,\n",
        "      'model': model\n",
        "  }\n",
        "  car.update(car_info)\n",
        "  return car\n",
        "\n",
        "make_car('subaru', 'outback', color = 'green', engine = \"small\", sunroof = True )\n"
      ]
    },
    {
      "cell_type": "markdown",
      "metadata": {
        "id": "X8LMp0QujOis"
      },
      "source": [
        "## Question 14\n",
        "**Restaurant:** Make a class called `Restaurant`. The `__init__()` method for `Restaurant` should store two attributes: a `restaurant_name` and a `cuisine_type`. Make a method called `describe_restaurant()` that prints these two pieces of information, and a method called `open_restaurant()` that prints a message indicating that the restaurant is open.\n",
        "\n",
        "Make an instance called `restaurant` from your class. Print the two attributes individually, and then call both methods."
      ]
    },
    {
      "cell_type": "code",
      "execution_count": 23,
      "metadata": {
        "id": "8uUtkTOUjOit",
        "colab": {
          "base_uri": "https://localhost:8080/"
        },
        "outputId": "6a9f4b4a-9873-475e-99d2-46ee7b871a8b"
      },
      "outputs": [
        {
          "output_type": "stream",
          "name": "stdout",
          "text": [
            "Restaurant Name: Casa Mia.\n",
            "Food Genre: American Italian Atrocities.\n",
            "They restaurant name is Casa Mia.\n",
            "They serve American Italian Atrocities.\n",
            "Casa Mia is open.\n"
          ]
        }
      ],
      "source": [
        "class Restaurant:\n",
        "  def __init__(self, restaurant_name, cuisine_type):\n",
        "    self.restaurant_name= restaurant_name\n",
        "    self.cuisine_type = cuisine_type\n",
        "\n",
        "  def describe_restaurant(self):\n",
        "    print(f\"They restaurant name is {self.restaurant_name}.\")\n",
        "    print(f\"They serve {self.cuisine_type}.\")\n",
        "\n",
        "  def open_restaurant(self):\n",
        "    print(f\"{self.restaurant_name} is open.\")\n",
        "\n",
        "rest = Restaurant(\"Casa Mia\", \"American Italian Atrocities\")\n",
        "\n",
        "print(f\"Restaurant Name: {rest.restaurant_name}.\")\n",
        "print(f\"Food Genre: {rest.cuisine_type}.\")\n",
        "\n",
        "rest.describe_restaurant()\n",
        "rest.open_restaurant()"
      ]
    },
    {
      "cell_type": "code",
      "source": [],
      "metadata": {
        "id": "ksyxQWjotLan"
      },
      "execution_count": null,
      "outputs": []
    },
    {
      "cell_type": "markdown",
      "metadata": {
        "id": "G_6PsbcfjOit"
      },
      "source": [
        "## Question 15\n",
        "**Three Restaurants:** Start with your class from Question 14. Create three different instances from the class, and call `describe_restaurant()` for each instance."
      ]
    },
    {
      "cell_type": "code",
      "execution_count": 24,
      "metadata": {
        "id": "ico4f0pPjOit",
        "colab": {
          "base_uri": "https://localhost:8080/"
        },
        "outputId": "e9c7517e-6a52-4aca-bc5d-fa0b61f60a94"
      },
      "outputs": [
        {
          "output_type": "stream",
          "name": "stdout",
          "text": [
            "They restaurant name is Casa Mia.\n",
            "They serve American Italian Atrocities.\n",
            "They restaurant name is Oldschool.\n",
            "They serve New York style Italian disc bread.\n",
            "They restaurant name is Quality Burrito.\n",
            "They serve South central north american corn sleeping bags.\n"
          ]
        }
      ],
      "source": [
        "class Restaurant:\n",
        "  def __init__(self, restaurant_name, cuisine_type):\n",
        "    self.restaurant_name= restaurant_name\n",
        "    self.cuisine_type = cuisine_type\n",
        "\n",
        "  def describe_restaurant(self):\n",
        "    print(f\"They restaurant name is {self.restaurant_name}.\")\n",
        "    print(f\"They serve {self.cuisine_type}.\")\n",
        "\n",
        "  def open_restaurant(self):\n",
        "    print(f\"{self.restaurant_name} is open.\")\n",
        "\n",
        "rest1 = Restaurant(\"Casa Mia\", \"American Italian Atrocities\")\n",
        "rest2 = Restaurant(\"Oldschool\", \"New York style Italian disc bread\")\n",
        "rest3 = Restaurant(\"Quality Burrito\", \"South central north american corn sleeping bags\")\n",
        "\n",
        "\n",
        "rest1.describe_restaurant()\n",
        "rest2.describe_restaurant()\n",
        "rest3.describe_restaurant()"
      ]
    },
    {
      "cell_type": "markdown",
      "metadata": {
        "id": "hVY4W_JGjOit"
      },
      "source": [
        "## Question 16\n",
        "**Users:** Make a class called `User`. Create two attributes called `first_name` and `last_name`, and then create several other attributes that are typically stored in a user profile. Make a method called `describe_user()` that prints a summary of the user’s information. Make another method called `greet_user()` that prints a personalized greeting to the user.\n",
        "\n",
        "Create several instances representing different users, and call both methods for each user."
      ]
    },
    {
      "cell_type": "markdown",
      "source": [],
      "metadata": {
        "id": "Ea7CrIBLvgjf"
      }
    },
    {
      "cell_type": "code",
      "execution_count": 29,
      "metadata": {
        "id": "30sgh3tsjOiu",
        "colab": {
          "base_uri": "https://localhost:8080/"
        },
        "outputId": "d9bde4c0-be75-42b8-a974-adb269c2fc27"
      },
      "outputs": [
        {
          "output_type": "stream",
          "name": "stdout",
          "text": [
            "User Info: \n",
            "First Name: Lucas\n",
            "Last Name: Phillips\n",
            "Vintage: 33\n",
            "Education: Super Bachelors\n",
            "Job: Student\n",
            "Hello, Lucas Phillips. Back again?\n",
            "\n",
            "User Info: \n",
            "First Name: Rob\n",
            "Last Name: Heckroth\n",
            "Vintage: 31\n",
            "Education: Bachelors\n",
            "Job: Corporate Drone\n",
            "Hello, Rob Heckroth. Back again?\n",
            "\n",
            "User Info: \n",
            "First Name: Al\n",
            "Last Name: Loobheck\n",
            "Vintage: 31\n",
            "Education: Bachelors\n",
            "Job: Corporate Drone\n",
            "Hello, Al Loobheck. Back again?\n",
            "\n"
          ]
        }
      ],
      "source": [
        "class User:\n",
        "  def __init__(self, first, last, age, education, job):\n",
        "    self.first = first\n",
        "    self.last = last\n",
        "    self.age = age\n",
        "    self.education = education\n",
        "    self.job = job\n",
        "\n",
        "  def describe_user(self):\n",
        "    print(f\"User Info: \")\n",
        "    print(f\"First Name: {self.first}\")\n",
        "    print(f\"Last Name: {self.last}\")\n",
        "    print(f\"Vintage: {self.age}\")\n",
        "    print(f\"Education: {self.education}\")\n",
        "    print(f\"Job: {self.job}\")\n",
        "\n",
        "  def greet_user(self):\n",
        "    print(f\"Hello, {self.first} {self.last}. Back again?\")\n",
        "\n",
        "user1 = User(\"Lucas\", \"Phillips\", 33, \"Super Bachelors\", \"Student\")\n",
        "user2 = User(\"Rob\", \"Heckroth\", 31, \"Bachelors\", \"Corporate Drone\")\n",
        "user3 = User(\"Al\", \"Loobheck\", 31, \"Bachelors\", \"Corporate Drone\")\n",
        "\n",
        "user1.describe_user()\n",
        "user1.greet_user()\n",
        "print()\n",
        "\n",
        "user2.describe_user()\n",
        "user2.greet_user()\n",
        "print()\n",
        "\n",
        "user3.describe_user()\n",
        "user3.greet_user()\n",
        "print()"
      ]
    },
    {
      "cell_type": "markdown",
      "metadata": {
        "id": "NT2E456rjOiu"
      },
      "source": [
        "## Question 17\n",
        "**Number Served:** Start with your program from Question 14. Add an attribute called `number_served` with a default value of 0. Create an instance called `restaurant` from this class. Print the number of customers the restaurant has served, and then change this value and print it again.\n",
        "\n",
        "Add a method called `set_number_served()` that lets you set the number of customers that have been served. Call this method with a new number and print the value again.\n",
        "\n",
        "Add a method called `increment_number_served()` that lets you increment the number of customers who’ve been served.\n",
        "\n",
        "Call this method with any number you like that could represent how many customers were served in, say, a day of business."
      ]
    },
    {
      "cell_type": "code",
      "execution_count": 38,
      "metadata": {
        "id": "QO0APTv6jOiu",
        "colab": {
          "base_uri": "https://localhost:8080/"
        },
        "outputId": "1e6b690b-4cb2-480b-c5a0-412fc4e5495a"
      },
      "outputs": [
        {
          "output_type": "stream",
          "name": "stdout",
          "text": [
            "Restaurant Name: Casa Mia.\n",
            "Food Genre: American Italian Atrocities.\n",
            "Number of customers served: 0\n",
            "The restaurant name is Casa Mia.\n",
            "They serve American Italian Atrocities.\n",
            "Casa Mia is open.\n",
            "Number of customers served: 45\n"
          ]
        }
      ],
      "source": [
        "class Restaurant:\n",
        "    def __init__(self, restaurant_name, cuisine_type):\n",
        "        self.restaurant_name = restaurant_name\n",
        "        self.cuisine_type = cuisine_type\n",
        "        self.number_served = 0\n",
        "\n",
        "    def describe_restaurant(self):\n",
        "        print(f\"The restaurant name is {self.restaurant_name}.\")\n",
        "        print(f\"They serve {self.cuisine_type}.\")\n",
        "\n",
        "    def open_restaurant(self):\n",
        "        print(f\"{self.restaurant_name} is open.\")\n",
        "\n",
        "    def set_number_served(self, number):\n",
        "        self.number_served = number\n",
        "\n",
        "    def increment_number_served(self, increment):\n",
        "        self.number_served += increment\n",
        "\n",
        "\n",
        "rest = Restaurant(\"Casa Mia\", \"American Italian Atrocities\")\n",
        "\n",
        "print(f\"Restaurant Name: {rest.restaurant_name}.\")\n",
        "print(f\"Food Genre: {rest.cuisine_type}.\")\n",
        "print(f\"Number of customers served: {rest.number_served}\")\n",
        "\n",
        "rest.describe_restaurant()\n",
        "rest.open_restaurant()\n",
        "rest.set_number_served(45)\n",
        "print(f\"Number of customers served: {rest.number_served}\")\n",
        "rest.increment_number_served(2)"
      ]
    },
    {
      "cell_type": "markdown",
      "metadata": {
        "id": "MAtlOAl7jOiu"
      },
      "source": [
        "## Question 18\n",
        "**Login Attempts:** Add an attribute called login_attempts to your User class from Question 16. Write a method called `increment_login_attempts()` that increments the value of `login_attempts` by 1. Write another method called `reset_login_attempts()` that resets the value of login_attempts to 0.\n",
        "\n",
        "Make an instance of the `User` class and call `increment_login_attempts()` several times. Print the value of `login_attempts` to make sure it was incremented properly, and then call `reset_login_attempts()`. Print `login_attempts` again to make sure it was reset to 0."
      ]
    },
    {
      "cell_type": "code",
      "execution_count": 42,
      "metadata": {
        "id": "LQlQsaLEjOiu",
        "colab": {
          "base_uri": "https://localhost:8080/"
        },
        "outputId": "fa4b7c02-5b71-4d5c-d11d-b37a2f662298"
      },
      "outputs": [
        {
          "output_type": "stream",
          "name": "stdout",
          "text": [
            "Login attempts: 3\n",
            "Login attempts after reset: 0\n"
          ]
        }
      ],
      "source": [
        "class User:\n",
        "  def __init__(self, first, last, age, education, job):\n",
        "    self.first = first\n",
        "    self.last = last\n",
        "    self.age = age\n",
        "    self.education = education\n",
        "    self.job = job\n",
        "    self.login_attempts = 0\n",
        "\n",
        "  def describe_user(self):\n",
        "    print(f\"User Info: \")\n",
        "    print(f\"First Name: {self.first}\")\n",
        "    print(f\"Last Name: {self.last}\")\n",
        "    print(f\"Vintage: {self.age}\")\n",
        "    print(f\"Education: {self.education}\")\n",
        "    print(f\"Job: {self.job}\")\n",
        "\n",
        "  def greet_user(self):\n",
        "    print(f\"Hello, {self.first} {self.last}. Back again?\")\n",
        "\n",
        "  def increment_login_attempts(self):\n",
        "    self.login_attempts += 1\n",
        "\n",
        "  def reset_login_attempts(self):\n",
        "    self.login_attempts = 0\n",
        "\n",
        "user1 = User(\"Lucas\", \"Phillips\", 33, \"Super Bachelors\", \"Student\")\n",
        "\n",
        "user1.increment_login_attempts()\n",
        "user1.increment_login_attempts()\n",
        "user1.increment_login_attempts()\n",
        "\n",
        "print(f\"Login attempts: {user1.login_attempts}\")\n",
        "\n",
        "user1.reset_login_attempts()\n",
        "\n",
        "print(f\"Login attempts after reset: {user1.login_attempts}\")"
      ]
    },
    {
      "cell_type": "markdown",
      "metadata": {
        "id": "HsdvZhhbjOiv"
      },
      "source": [
        "## Question 19\n",
        "**Dice:** Make a class `Die` with one attribute called `sides`, which has a default value of 6. Write a method called `roll_die()` that prints a random number between 1 and the number of sides the die has. Make a 6-sided die and roll it 10 times.\n",
        "\n",
        "Make a 10-sided die and a 20-sided die. Roll each die 10 times."
      ]
    },
    {
      "cell_type": "code",
      "execution_count": 45,
      "metadata": {
        "id": "InTrlPuvjOiv",
        "colab": {
          "base_uri": "https://localhost:8080/"
        },
        "outputId": "d1b27ffa-dd85-4ebe-d648-c74e8cb34812"
      },
      "outputs": [
        {
          "output_type": "stream",
          "name": "stdout",
          "text": [
            "Rolling 6-sided die: 2\n",
            "Rolling 6-sided die: 6\n",
            "Rolling 6-sided die: 4\n",
            "Rolling 6-sided die: 3\n",
            "Rolling 6-sided die: 6\n",
            "Rolling 6-sided die: 3\n",
            "Rolling 6-sided die: 4\n",
            "Rolling 6-sided die: 6\n",
            "Rolling 6-sided die: 4\n",
            "Rolling 6-sided die: 6\n",
            "Rolling 10-sided die: 10\n",
            "Rolling 10-sided die: 6\n",
            "Rolling 10-sided die: 1\n",
            "Rolling 10-sided die: 6\n",
            "Rolling 10-sided die: 3\n",
            "Rolling 10-sided die: 3\n",
            "Rolling 10-sided die: 8\n",
            "Rolling 10-sided die: 8\n",
            "Rolling 10-sided die: 1\n",
            "Rolling 10-sided die: 8\n",
            "Rolling 20-sided die: 18\n",
            "Rolling 20-sided die: 10\n",
            "Rolling 20-sided die: 20\n",
            "Rolling 20-sided die: 5\n",
            "Rolling 20-sided die: 5\n",
            "Rolling 20-sided die: 20\n",
            "Rolling 20-sided die: 9\n",
            "Rolling 20-sided die: 8\n",
            "Rolling 20-sided die: 3\n",
            "Rolling 20-sided die: 3\n"
          ]
        }
      ],
      "source": [
        "import random\n",
        "class Die:\n",
        "  def __init__(self, sides = 6):\n",
        "    self.sides = sides\n",
        "\n",
        "  def roll_die(self, rolls =10):\n",
        "    for i in range(rolls):\n",
        "      print(f\"Rolling {self.sides}-sided die: {random.randint(1, self.sides)}\")\n",
        "\n",
        "six_sided_die = Die()\n",
        "ten_sided_die = Die(10)\n",
        "twenty_sided_die = Die(20)\n",
        "\n",
        "six_sided_die.roll_die()\n",
        "ten_sided_die.roll_die()\n",
        "twenty_sided_die.roll_die()\n"
      ]
    },
    {
      "cell_type": "markdown",
      "metadata": {
        "id": "55aSSqGEjOiv"
      },
      "source": [
        "## Question 20\n",
        "**Lottery:** Make a list or tuple containing a series of 10 numbers and five letters. Randomly select four numbers or letters from the list and print a message saying that any ticket matching these four numbers or letters wins a prize.\n",
        "\n",
        "You can use a loop to see how hard it might be to win the kind of lottery you just modeled. Make a list or tuple called `my_ticket`. Write a loop that keeps pulling numbers until your ticket wins. Print a message reporting how many times the loop had to run to give you a winning ticket."
      ]
    },
    {
      "cell_type": "code",
      "execution_count": 51,
      "metadata": {
        "id": "_pa3D9nzjOiv",
        "colab": {
          "base_uri": "https://localhost:8080/"
        },
        "outputId": "02875eea-12ac-47a9-bb2b-154efc7e749e"
      },
      "outputs": [
        {
          "output_type": "stream",
          "name": "stdout",
          "text": [
            "The winning things are: [3, 5, 'S', 'F']\n",
            "Attempts: 17942\n"
          ]
        }
      ],
      "source": [
        "import random\n",
        "\n",
        "items = [2, 3, 4, 5, 6, 7, 8, 9, 10 ,11, 'A', 'S', 'D', 'F', 'G']\n",
        "winning = random.sample(items, 4)\n",
        "print(f\"The winning things are: {winning}\")\n",
        "\n",
        "my_ticket = []\n",
        "attempts = 0\n",
        "\n",
        "while True:\n",
        "  my_ticket = random.sample(items, 4)\n",
        "  attempts += 1\n",
        "  if my_ticket == winning:\n",
        "    break\n",
        "\n",
        "print(f\"Attempts: {attempts}\")"
      ]
    },
    {
      "cell_type": "markdown",
      "source": [],
      "metadata": {
        "id": "PrZuwDiqCAak"
      }
    }
  ],
  "metadata": {
    "kernelspec": {
      "display_name": "Python 3 (ipykernel)",
      "language": "python",
      "name": "python3"
    },
    "language_info": {
      "codemirror_mode": {
        "name": "ipython",
        "version": 3
      },
      "file_extension": ".py",
      "mimetype": "text/x-python",
      "name": "python",
      "nbconvert_exporter": "python",
      "pygments_lexer": "ipython3",
      "version": "3.8.10"
    },
    "colab": {
      "provenance": [],
      "include_colab_link": true
    }
  },
  "nbformat": 4,
  "nbformat_minor": 0
}